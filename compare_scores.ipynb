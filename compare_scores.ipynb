{
 "cells": [
  {
   "cell_type": "code",
   "execution_count": 1,
   "metadata": {},
   "outputs": [],
   "source": [
    "from cogpred.utils.naming import make_run_path\n",
    "import joblib\n",
    "from cogpred.utils.configuration import get_config\n",
    "from pathlib import Path\n",
    "\n",
    "config = get_config()\n",
    "dir = Path(config[\"output_dir\"]) / \"prediction\"\n",
    "ATLAS = \"schaefer200\"\n",
    "k = 3\n",
    "\n",
    "conn_dir = config[\"connectivity_matrices\"]"
   ]
  },
  {
   "cell_type": "code",
   "execution_count": 2,
   "metadata": {},
   "outputs": [
    {
     "name": "stdout",
     "output_type": "stream",
     "text": [
      "k-3_feat-series_experimental-True_atlas-schaefer200_winsize-128_batchsize-512_niter-20_stamp-2024-07-10-16:56 has no available score\n",
      "k-3_feat-series_experimental-True_atlas-schaefer200 has no available score\n",
      "k-3_feat-series_experimental-True_atlas-schaefer200_stamp-2024-07-04 18:10:38 has no available score\n",
      "k-3_feat-series_experimental-True_atlas-schaefer200_stamp-2024-07-05 10:30:43 has no available score\n",
      "k-3_feat-series_experimental-True_atlas-schaefer200_stamp-2024-07-05 11:16:56 has no available score\n",
      "k-3_feat-series_experimental-True_atlas-schaefer200_stamp-2024-07-05 12:13:19 has no available score\n",
      "k-3_feat-series_experimental-True_atlas-schaefer200_winsize-24_stamp-2024-07-05 13:00:50 has no available score\n",
      "k-3_feat-series_experimental-True_atlas-schaefer200_winsize-24_stamp-2024-07-05 13:02:36 has no available score\n",
      "k-3_feat-series_experimental-True_atlas-schaefer200_winsize-24_stamp-2024-07-05 13:06:46 has no available score\n",
      "k-3_feat-series_experimental-True_atlas-schaefer200_winsize-24_stamp-2024-07-05 13:49:20 has no available score\n",
      "k-3_feat-series_experimental-True_atlas-schaefer200_winsize-24_stamp-2024-07-05 13:51:57 has no available score\n",
      "k-3_feat-series_experimental-True_atlas-schaefer200_winsize-24_stamp-2024-07-05 13:53:33 has no available score\n",
      "k-3_feat-series_experimental-True_atlas-schaefer200_winsize-24_stamp-2024-07-05 14:09:03 has no available score\n",
      "k-3_feat-series_experimental-True_atlas-schaefer200_winsize-24_batch_size-1024_niter-10_stamp-2024-07-05-14:16 has no available score\n",
      "k-3_feat-series_experimental-True_atlas-schaefer200_winsize-24_batch_size-512_niter-50_stamp-2024-07-05-14:21 has no available score\n",
      "k-3_feat-series_experimental-True_atlas-schaefer200_winsize-24_batch_size-512_niter-5_stamp-2024-07-05-15:20 has no available score\n",
      "k-3_feat-series_experimental-True_atlas-schaefer200_winsize-48_batchsize-512_niter-1_stamp-2024-07-05-15:58 has no available score\n",
      "k-3_feat-series_experimental-True_atlas-schaefer200_winsize-48_batchsize-512_niter-10_stamp-2024-07-05-16:03 has no available score\n",
      "k-3_feat-series_experimental-True_atlas-schaefer200_winsize-48_batchsize-512_niter-10_stamp-2024-07-08-10:46 has no available score\n",
      "k-3_feat-series_experimental-True_atlas-schaefer200_winsize-96_batchsize-512_niter-10_stamp-2024-07-08-10:56 has no available score\n",
      "k-3_feat-series_experimental-True_atlas-schaefer200_winsize-96_batchsize-512_niter-10_stamp-2024-07-08-11:16 has no available score\n",
      "k-3_feat-series_experimental-True_atlas-schaefer200_winsize-96_batchsize-512_niter-10_stamp-2024-07-08-11:26 has no available score\n",
      "k-3_feat-series_experimental-True_atlas-schaefer200_winsize-96_batchsize-512_niter-10_stamp-2024-07-08-11:39 has no available score\n",
      "k-3_feat-series_experimental-True_atlas-schaefer200_winsize-96_batchsize-512_niter-10_stamp-2024-07-08-11:40 has no available score\n",
      "k-3_feat-series_experimental-True_atlas-schaefer200_winsize-96_batchsize-crossval_niter-100_stamp-2024-07-08-12:10 has no available score\n",
      "k-3_feat-series_experimental-True_atlas-schaefer200_winsize-96_batchsize-crossval_niter-100_stamp-2024-07-08-13:42 has no available score\n",
      "k-3_feat-series_experimental-True_atlas-schaefer200_winsize-96_batchsize-crossval_niter-100_stamp-2024-07-09-10:02 has no available score\n",
      "k-3_feat-series_experimental-True_atlas-schaefer200_winsize-128_batchsize-512_niter-20_stamp-2024-07-10-11:49 has no available score\n",
      "k-3_feat-series_experimental-True_atlas-schaefer200_winsize-128_batchsize-512_niter-20_stamp-2024-07-10-17:00 has no available score\n"
     ]
    }
   ],
   "source": [
    "import joblib\n",
    "# TODO make eval dict to sort experiments\n",
    "scores = []\n",
    "names = []\n",
    "for subdir in dir.iterdir():\n",
    "    try:\n",
    "        res = joblib.load(subdir / \"test_scores.joblib\")\n",
    "    except FileNotFoundError:\n",
    "        print(f\"{subdir.name} has no available score\")\n",
    "        continue\n",
    "    if \"experimental-True\" not in subdir.name:\n",
    "        scores.append(res)\n",
    "        names.append(subdir.name)"
   ]
  },
  {
   "cell_type": "markdown",
   "metadata": {},
   "source": [
    "## Display outer cv results"
   ]
  },
  {
   "cell_type": "code",
   "execution_count": 3,
   "metadata": {},
   "outputs": [
    {
     "data": {
      "text/html": [
       "<div>\n",
       "<style scoped>\n",
       "    .dataframe tbody tr th:only-of-type {\n",
       "        vertical-align: middle;\n",
       "    }\n",
       "\n",
       "    .dataframe tbody tr th {\n",
       "        vertical-align: top;\n",
       "    }\n",
       "\n",
       "    .dataframe thead th {\n",
       "        text-align: right;\n",
       "    }\n",
       "</style>\n",
       "<table border=\"1\" class=\"dataframe\">\n",
       "  <thead>\n",
       "    <tr style=\"text-align: right;\">\n",
       "      <th></th>\n",
       "      <th>split_1</th>\n",
       "      <th>split_2</th>\n",
       "      <th>split_3</th>\n",
       "      <th>split_4</th>\n",
       "      <th>split_5</th>\n",
       "      <th>split_6</th>\n",
       "      <th>split_7</th>\n",
       "      <th>split_8</th>\n",
       "    </tr>\n",
       "  </thead>\n",
       "  <tbody>\n",
       "    <tr>\n",
       "      <th>fc_atlas-schaefer200_groupkfold-True_net-allbrain</th>\n",
       "      <td>0.361941</td>\n",
       "      <td>0.375460</td>\n",
       "      <td>0.350978</td>\n",
       "      <td>0.325789</td>\n",
       "      <td>0.305397</td>\n",
       "      <td>0.298814</td>\n",
       "      <td>0.336853</td>\n",
       "      <td>0.325345</td>\n",
       "    </tr>\n",
       "    <tr>\n",
       "      <th>volumetry_atlas-schaefer200_experimental-False</th>\n",
       "      <td>0.486414</td>\n",
       "      <td>0.444630</td>\n",
       "      <td>0.382470</td>\n",
       "      <td>0.388240</td>\n",
       "      <td>0.441742</td>\n",
       "      <td>0.421520</td>\n",
       "      <td>0.330525</td>\n",
       "      <td>0.397381</td>\n",
       "    </tr>\n",
       "    <tr>\n",
       "      <th>dummy_experimental-False</th>\n",
       "      <td>0.274510</td>\n",
       "      <td>0.275910</td>\n",
       "      <td>0.287053</td>\n",
       "      <td>0.305210</td>\n",
       "      <td>0.281736</td>\n",
       "      <td>0.257937</td>\n",
       "      <td>0.275177</td>\n",
       "      <td>0.288799</td>\n",
       "    </tr>\n",
       "    <tr>\n",
       "      <th>fc_atlas-schaefer200_groupkfold-True_net-Default</th>\n",
       "      <td>0.352638</td>\n",
       "      <td>0.368678</td>\n",
       "      <td>0.343780</td>\n",
       "      <td>0.323266</td>\n",
       "      <td>0.311541</td>\n",
       "      <td>0.376377</td>\n",
       "      <td>0.390324</td>\n",
       "      <td>0.316162</td>\n",
       "    </tr>\n",
       "    <tr>\n",
       "      <th>fc_atlas-schaefer200_groupkfold-True_net-Limbic</th>\n",
       "      <td>0.378662</td>\n",
       "      <td>0.394759</td>\n",
       "      <td>0.313088</td>\n",
       "      <td>0.320193</td>\n",
       "      <td>0.333176</td>\n",
       "      <td>0.308583</td>\n",
       "      <td>0.327899</td>\n",
       "      <td>0.328943</td>\n",
       "    </tr>\n",
       "    <tr>\n",
       "      <th>fc_atlas-schaefer200_groupkfold-True_net-Limbic_inter-SomMot</th>\n",
       "      <td>0.303175</td>\n",
       "      <td>0.342593</td>\n",
       "      <td>0.309982</td>\n",
       "      <td>0.338265</td>\n",
       "      <td>0.350372</td>\n",
       "      <td>0.314110</td>\n",
       "      <td>0.370732</td>\n",
       "      <td>0.349282</td>\n",
       "    </tr>\n",
       "  </tbody>\n",
       "</table>\n",
       "</div>"
      ],
      "text/plain": [
       "                                                     split_1   split_2  \\\n",
       "fc_atlas-schaefer200_groupkfold-True_net-allbrain   0.361941  0.375460   \n",
       "volumetry_atlas-schaefer200_experimental-False      0.486414  0.444630   \n",
       "dummy_experimental-False                            0.274510  0.275910   \n",
       "fc_atlas-schaefer200_groupkfold-True_net-Default    0.352638  0.368678   \n",
       "fc_atlas-schaefer200_groupkfold-True_net-Limbic     0.378662  0.394759   \n",
       "fc_atlas-schaefer200_groupkfold-True_net-Limbic...  0.303175  0.342593   \n",
       "\n",
       "                                                     split_3   split_4  \\\n",
       "fc_atlas-schaefer200_groupkfold-True_net-allbrain   0.350978  0.325789   \n",
       "volumetry_atlas-schaefer200_experimental-False      0.382470  0.388240   \n",
       "dummy_experimental-False                            0.287053  0.305210   \n",
       "fc_atlas-schaefer200_groupkfold-True_net-Default    0.343780  0.323266   \n",
       "fc_atlas-schaefer200_groupkfold-True_net-Limbic     0.313088  0.320193   \n",
       "fc_atlas-schaefer200_groupkfold-True_net-Limbic...  0.309982  0.338265   \n",
       "\n",
       "                                                     split_5   split_6  \\\n",
       "fc_atlas-schaefer200_groupkfold-True_net-allbrain   0.305397  0.298814   \n",
       "volumetry_atlas-schaefer200_experimental-False      0.441742  0.421520   \n",
       "dummy_experimental-False                            0.281736  0.257937   \n",
       "fc_atlas-schaefer200_groupkfold-True_net-Default    0.311541  0.376377   \n",
       "fc_atlas-schaefer200_groupkfold-True_net-Limbic     0.333176  0.308583   \n",
       "fc_atlas-schaefer200_groupkfold-True_net-Limbic...  0.350372  0.314110   \n",
       "\n",
       "                                                     split_7   split_8  \n",
       "fc_atlas-schaefer200_groupkfold-True_net-allbrain   0.336853  0.325345  \n",
       "volumetry_atlas-schaefer200_experimental-False      0.330525  0.397381  \n",
       "dummy_experimental-False                            0.275177  0.288799  \n",
       "fc_atlas-schaefer200_groupkfold-True_net-Default    0.390324  0.316162  \n",
       "fc_atlas-schaefer200_groupkfold-True_net-Limbic     0.327899  0.328943  \n",
       "fc_atlas-schaefer200_groupkfold-True_net-Limbic...  0.370732  0.349282  "
      ]
     },
     "execution_count": 3,
     "metadata": {},
     "output_type": "execute_result"
    }
   ],
   "source": [
    "import pandas as pd\n",
    "import seaborn as sns\n",
    "def shorten(long_name):\n",
    "    return long_name.split(\"_\")[1].split(\"-\")[1]\n",
    "\n",
    "df = pd.DataFrame(scores, index=[name[9:] for name in names], columns=[f\"split_{i+1}\" for i in range(len(res))])\n",
    "df"
   ]
  },
  {
   "cell_type": "code",
   "execution_count": 4,
   "metadata": {},
   "outputs": [
    {
     "data": {
      "text/plain": [
       "fc_atlas-schaefer200_groupkfold-True_net-allbrain               0.335072\n",
       "volumetry_atlas-schaefer200_experimental-False                  0.411615\n",
       "dummy_experimental-False                                        0.280792\n",
       "fc_atlas-schaefer200_groupkfold-True_net-Default                0.347846\n",
       "fc_atlas-schaefer200_groupkfold-True_net-Limbic                 0.338163\n",
       "fc_atlas-schaefer200_groupkfold-True_net-Limbic_inter-SomMot    0.334814\n",
       "dtype: float64"
      ]
     },
     "execution_count": 4,
     "metadata": {},
     "output_type": "execute_result"
    }
   ],
   "source": [
    "df.mean(axis=1)"
   ]
  },
  {
   "cell_type": "code",
   "execution_count": 5,
   "metadata": {},
   "outputs": [
    {
     "data": {
      "image/png": "[encoded data removed]",
      "text/plain": [
       "<Figure size 600x600 with 1 Axes>"
      ]
     },
     "metadata": {},
     "output_type": "display_data"
    }
   ],
   "source": [
    "import matplotlib.pyplot as plt\n",
    "m = df.T.melt(var_name=\"model\", value_name=\"macro F1\")\n",
    "plt.subplots(figsize=(6, 6))\n",
    "sns.boxplot(m, x=\"macro F1\", y=\"model\", hue=\"model\")\n",
    "plt.xlim(0)\n",
    "plt.show()"
   ]
  },
  {
   "cell_type": "markdown",
   "metadata": {},
   "source": [
    "## NN inference on test set"
   ]
  },
  {
   "cell_type": "code",
   "execution_count": 6,
   "metadata": {},
   "outputs": [],
   "source": [
    "import numpy as np\n",
    "from cogpred.features import make_features\n",
    "from cogpred.loading import make_test_data, TSFetcher\n",
    "from neuroginius.atlas import Atlas\n",
    "ATLAS = \"schaefer200\"\n",
    "tspath = Path(\"/georges/memento/BIDS/derivatives/schaeffer200_merged_phenotypes\")\n"
   ]
  },
  {
   "cell_type": "code",
   "execution_count": 7,
   "metadata": {},
   "outputs": [
    {
     "name": "stdout",
     "output_type": "stream",
     "text": [
      "Dropping 4 subjects because of lacking MMMSE\n"
     ]
    }
   ],
   "source": [
    "atlas = Atlas.from_name(ATLAS)\n",
    "matrices, metadata = make_test_data(conn_dir, ATLAS, k=3)\n",
    "dmn_indexer = np.where(np.array(atlas.macro_labels) == \"Default\", True, False)\n",
    "fetcher = TSFetcher(tspath)\n",
    "features = make_features(fetcher, metadata, dmn_indexer)"
   ]
  },
  {
   "cell_type": "code",
   "execution_count": 8,
   "metadata": {},
   "outputs": [],
   "source": [
    "y_true = metadata.cluster_label.values.astype(int)"
   ]
  },
  {
   "cell_type": "code",
   "execution_count": 16,
   "metadata": {},
   "outputs": [],
   "source": [
    "from collections import OrderedDict\n",
    "from cogpred.models import default_channel_func, initial_bump, slow_increase, fast_increase, constant_channels\n",
    "\n",
    "EXPDIR = \"/homes_unix/jlegrand/data/Memento/output/prediction\"\n",
    "exppath = Path(EXPDIR) / \"k-3_feat-series_experimental-True_atlas-schaefer200_winsize-96_batchsize-crossval_niter-100_stamp-2024-07-09-10:02\"\n",
    "cvres = pd.read_csv(exppath / \"cv_results.csv\", index_col=0)\n",
    "\n",
    "# There's a hack because channel func cannot be evaluated directly\n",
    "channelfunc = cvres.loc[0, \"param_module__channel_func\"]\n",
    "params = cvres.loc[0, \"params\"]\n",
    "params = params.replace(f\"'module__channel_func': {channelfunc}, \", \"\")\n",
    "params = eval(params)\n",
    "params[\"module__channel_func\"] = eval(channelfunc.split(\" \")[1])\n",
    "\n",
    "expdict = dict()\n",
    "for k in exppath.name.split(\"_\"):\n",
    "    exptag = k.split(\"-\")\n",
    "    expdict[exptag[0]] = exptag[1]\n",
    "\n"
   ]
  },
  {
   "cell_type": "code",
   "execution_count": 17,
   "metadata": {},
   "outputs": [
    {
     "data": {
      "text/plain": [
       "{'batch_size': 7,\n",
       " 'module__num_conv_blocks': 4,\n",
       " 'optimizer__lr': 8.231574256274073e-05,\n",
       " 'optimizer__weight_decay': 0.01071118014128167,\n",
       " 'module__channel_func': <function cogpred.models.constant_channels(C)>}"
      ]
     },
     "execution_count": 17,
     "metadata": {},
     "output_type": "execute_result"
    }
   ],
   "source": [
    "dict(params)"
   ]
  },
  {
   "cell_type": "code",
   "execution_count": 25,
   "metadata": {},
   "outputs": [
    {
     "name": "stdout",
     "output_type": "stream",
     "text": [
      "46 96\n",
      "46 48\n",
      "46 24\n",
      "46 12\n",
      "46 6\n"
     ]
    },
    {
     "ename": "RuntimeError",
     "evalue": "Error(s) in loading state_dict for BOLDCNN:\n\tUnexpected key(s) in state_dict: \"conv_4.weight\", \"conv_4.bias\", \"bn_4.weight\", \"bn_4.bias\", \"bn_4.running_mean\", \"bn_4.running_var\", \"bn_4.num_batches_tracked\". \n\tsize mismatch for conv_0.weight: copying a param with shape torch.Size([256, 46, 3]) from checkpoint, the shape in current model is torch.Size([46, 46, 3]).\n\tsize mismatch for conv_0.bias: copying a param with shape torch.Size([256]) from checkpoint, the shape in current model is torch.Size([46]).\n\tsize mismatch for bn_0.weight: copying a param with shape torch.Size([256]) from checkpoint, the shape in current model is torch.Size([46]).\n\tsize mismatch for bn_0.bias: copying a param with shape torch.Size([256]) from checkpoint, the shape in current model is torch.Size([46]).\n\tsize mismatch for bn_0.running_mean: copying a param with shape torch.Size([256]) from checkpoint, the shape in current model is torch.Size([46]).\n\tsize mismatch for bn_0.running_var: copying a param with shape torch.Size([256]) from checkpoint, the shape in current model is torch.Size([46]).\n\tsize mismatch for conv_1.weight: copying a param with shape torch.Size([128, 256, 3]) from checkpoint, the shape in current model is torch.Size([46, 46, 3]).\n\tsize mismatch for conv_1.bias: copying a param with shape torch.Size([128]) from checkpoint, the shape in current model is torch.Size([46]).\n\tsize mismatch for bn_1.weight: copying a param with shape torch.Size([128]) from checkpoint, the shape in current model is torch.Size([46]).\n\tsize mismatch for bn_1.bias: copying a param with shape torch.Size([128]) from checkpoint, the shape in current model is torch.Size([46]).\n\tsize mismatch for bn_1.running_mean: copying a param with shape torch.Size([128]) from checkpoint, the shape in current model is torch.Size([46]).\n\tsize mismatch for bn_1.running_var: copying a param with shape torch.Size([128]) from checkpoint, the shape in current model is torch.Size([46]).\n\tsize mismatch for conv_2.weight: copying a param with shape torch.Size([64, 128, 3]) from checkpoint, the shape in current model is torch.Size([46, 46, 3]).\n\tsize mismatch for conv_2.bias: copying a param with shape torch.Size([64]) from checkpoint, the shape in current model is torch.Size([46]).\n\tsize mismatch for bn_2.weight: copying a param with shape torch.Size([64]) from checkpoint, the shape in current model is torch.Size([46]).\n\tsize mismatch for bn_2.bias: copying a param with shape torch.Size([64]) from checkpoint, the shape in current model is torch.Size([46]).\n\tsize mismatch for bn_2.running_mean: copying a param with shape torch.Size([64]) from checkpoint, the shape in current model is torch.Size([46]).\n\tsize mismatch for bn_2.running_var: copying a param with shape torch.Size([64]) from checkpoint, the shape in current model is torch.Size([46]).\n\tsize mismatch for conv_3.weight: copying a param with shape torch.Size([32, 64, 3]) from checkpoint, the shape in current model is torch.Size([46, 46, 3]).\n\tsize mismatch for conv_3.bias: copying a param with shape torch.Size([32]) from checkpoint, the shape in current model is torch.Size([46]).\n\tsize mismatch for bn_3.weight: copying a param with shape torch.Size([32]) from checkpoint, the shape in current model is torch.Size([46]).\n\tsize mismatch for bn_3.bias: copying a param with shape torch.Size([32]) from checkpoint, the shape in current model is torch.Size([46]).\n\tsize mismatch for bn_3.running_mean: copying a param with shape torch.Size([32]) from checkpoint, the shape in current model is torch.Size([46]).\n\tsize mismatch for bn_3.running_var: copying a param with shape torch.Size([32]) from checkpoint, the shape in current model is torch.Size([46]).\n\tsize mismatch for classification_layer.weight: copying a param with shape torch.Size([3, 48]) from checkpoint, the shape in current model is torch.Size([3, 276]).",
     "output_type": "error",
     "traceback": [
      "\u001b[0;31m---------------------------------------------------------------------------\u001b[0m",
      "\u001b[0;31mRuntimeError\u001b[0m                              Traceback (most recent call last)",
      "Cell \u001b[0;32mIn[25], line 13\u001b[0m\n\u001b[1;32m      4\u001b[0m new_net \u001b[38;5;241m=\u001b[39m WindowNetClassifier(\n\u001b[1;32m      5\u001b[0m     module\u001b[38;5;241m=\u001b[39mBOLDCNN,\n\u001b[1;32m      6\u001b[0m     module__n_channels\u001b[38;5;241m=\u001b[39m\u001b[38;5;28msum\u001b[39m(dmn_indexer),\n\u001b[0;32m   (...)\u001b[0m\n\u001b[1;32m      9\u001b[0m     \u001b[38;5;241m*\u001b[39m\u001b[38;5;241m*\u001b[39m\u001b[38;5;28mdict\u001b[39m(params)\n\u001b[1;32m     10\u001b[0m )\n\u001b[1;32m     12\u001b[0m new_net\u001b[38;5;241m.\u001b[39minitialize()  \u001b[38;5;66;03m# This is important!\u001b[39;00m\n\u001b[0;32m---> 13\u001b[0m \u001b[43mnew_net\u001b[49m\u001b[38;5;241;43m.\u001b[39;49m\u001b[43mload_params\u001b[49m\u001b[43m(\u001b[49m\u001b[43mf_params\u001b[49m\u001b[38;5;241;43m=\u001b[39;49m\u001b[43mexppath\u001b[49m\u001b[43m \u001b[49m\u001b[38;5;241;43m/\u001b[39;49m\u001b[43m \u001b[49m\u001b[38;5;124;43m\"\u001b[39;49m\u001b[38;5;124;43mparams.pkl\u001b[39;49m\u001b[38;5;124;43m\"\u001b[39;49m\u001b[43m)\u001b[49m\n",
      "File \u001b[0;32m~/miniconda3/envs/cogpred/lib/python3.12/site-packages/skorch/net.py:2670\u001b[0m, in \u001b[0;36mNeuralNet.load_params\u001b[0;34m(self, f_params, f_optimizer, f_criterion, f_history, checkpoint, use_safetensors, **kwargs)\u001b[0m\n\u001b[1;32m   2668\u001b[0m module \u001b[38;5;241m=\u001b[39m \u001b[38;5;28mself\u001b[39m\u001b[38;5;241m.\u001b[39m_get_module(attr, msg\u001b[38;5;241m=\u001b[39mmsg_module)\n\u001b[1;32m   2669\u001b[0m state_dict \u001b[38;5;241m=\u001b[39m _get_state_dict(f_name)\n\u001b[0;32m-> 2670\u001b[0m \u001b[43mmodule\u001b[49m\u001b[38;5;241;43m.\u001b[39;49m\u001b[43mload_state_dict\u001b[49m\u001b[43m(\u001b[49m\u001b[43mstate_dict\u001b[49m\u001b[43m)\u001b[49m\n",
      "File \u001b[0;32m~/miniconda3/envs/cogpred/lib/python3.12/site-packages/torch/nn/modules/module.py:2189\u001b[0m, in \u001b[0;36mModule.load_state_dict\u001b[0;34m(self, state_dict, strict, assign)\u001b[0m\n\u001b[1;32m   2184\u001b[0m         error_msgs\u001b[38;5;241m.\u001b[39minsert(\n\u001b[1;32m   2185\u001b[0m             \u001b[38;5;241m0\u001b[39m, \u001b[38;5;124m'\u001b[39m\u001b[38;5;124mMissing key(s) in state_dict: \u001b[39m\u001b[38;5;132;01m{}\u001b[39;00m\u001b[38;5;124m. \u001b[39m\u001b[38;5;124m'\u001b[39m\u001b[38;5;241m.\u001b[39mformat(\n\u001b[1;32m   2186\u001b[0m                 \u001b[38;5;124m'\u001b[39m\u001b[38;5;124m, \u001b[39m\u001b[38;5;124m'\u001b[39m\u001b[38;5;241m.\u001b[39mjoin(\u001b[38;5;124mf\u001b[39m\u001b[38;5;124m'\u001b[39m\u001b[38;5;124m\"\u001b[39m\u001b[38;5;132;01m{\u001b[39;00mk\u001b[38;5;132;01m}\u001b[39;00m\u001b[38;5;124m\"\u001b[39m\u001b[38;5;124m'\u001b[39m \u001b[38;5;28;01mfor\u001b[39;00m k \u001b[38;5;129;01min\u001b[39;00m missing_keys)))\n\u001b[1;32m   2188\u001b[0m \u001b[38;5;28;01mif\u001b[39;00m \u001b[38;5;28mlen\u001b[39m(error_msgs) \u001b[38;5;241m>\u001b[39m \u001b[38;5;241m0\u001b[39m:\n\u001b[0;32m-> 2189\u001b[0m     \u001b[38;5;28;01mraise\u001b[39;00m \u001b[38;5;167;01mRuntimeError\u001b[39;00m(\u001b[38;5;124m'\u001b[39m\u001b[38;5;124mError(s) in loading state_dict for \u001b[39m\u001b[38;5;132;01m{}\u001b[39;00m\u001b[38;5;124m:\u001b[39m\u001b[38;5;130;01m\\n\u001b[39;00m\u001b[38;5;130;01m\\t\u001b[39;00m\u001b[38;5;132;01m{}\u001b[39;00m\u001b[38;5;124m'\u001b[39m\u001b[38;5;241m.\u001b[39mformat(\n\u001b[1;32m   2190\u001b[0m                        \u001b[38;5;28mself\u001b[39m\u001b[38;5;241m.\u001b[39m\u001b[38;5;18m__class__\u001b[39m\u001b[38;5;241m.\u001b[39m\u001b[38;5;18m__name__\u001b[39m, \u001b[38;5;124m\"\u001b[39m\u001b[38;5;130;01m\\n\u001b[39;00m\u001b[38;5;130;01m\\t\u001b[39;00m\u001b[38;5;124m\"\u001b[39m\u001b[38;5;241m.\u001b[39mjoin(error_msgs)))\n\u001b[1;32m   2191\u001b[0m \u001b[38;5;28;01mreturn\u001b[39;00m _IncompatibleKeys(missing_keys, unexpected_keys)\n",
      "\u001b[0;31mRuntimeError\u001b[0m: Error(s) in loading state_dict for BOLDCNN:\n\tUnexpected key(s) in state_dict: \"conv_4.weight\", \"conv_4.bias\", \"bn_4.weight\", \"bn_4.bias\", \"bn_4.running_mean\", \"bn_4.running_var\", \"bn_4.num_batches_tracked\". \n\tsize mismatch for conv_0.weight: copying a param with shape torch.Size([256, 46, 3]) from checkpoint, the shape in current model is torch.Size([46, 46, 3]).\n\tsize mismatch for conv_0.bias: copying a param with shape torch.Size([256]) from checkpoint, the shape in current model is torch.Size([46]).\n\tsize mismatch for bn_0.weight: copying a param with shape torch.Size([256]) from checkpoint, the shape in current model is torch.Size([46]).\n\tsize mismatch for bn_0.bias: copying a param with shape torch.Size([256]) from checkpoint, the shape in current model is torch.Size([46]).\n\tsize mismatch for bn_0.running_mean: copying a param with shape torch.Size([256]) from checkpoint, the shape in current model is torch.Size([46]).\n\tsize mismatch for bn_0.running_var: copying a param with shape torch.Size([256]) from checkpoint, the shape in current model is torch.Size([46]).\n\tsize mismatch for conv_1.weight: copying a param with shape torch.Size([128, 256, 3]) from checkpoint, the shape in current model is torch.Size([46, 46, 3]).\n\tsize mismatch for conv_1.bias: copying a param with shape torch.Size([128]) from checkpoint, the shape in current model is torch.Size([46]).\n\tsize mismatch for bn_1.weight: copying a param with shape torch.Size([128]) from checkpoint, the shape in current model is torch.Size([46]).\n\tsize mismatch for bn_1.bias: copying a param with shape torch.Size([128]) from checkpoint, the shape in current model is torch.Size([46]).\n\tsize mismatch for bn_1.running_mean: copying a param with shape torch.Size([128]) from checkpoint, the shape in current model is torch.Size([46]).\n\tsize mismatch for bn_1.running_var: copying a param with shape torch.Size([128]) from checkpoint, the shape in current model is torch.Size([46]).\n\tsize mismatch for conv_2.weight: copying a param with shape torch.Size([64, 128, 3]) from checkpoint, the shape in current model is torch.Size([46, 46, 3]).\n\tsize mismatch for conv_2.bias: copying a param with shape torch.Size([64]) from checkpoint, the shape in current model is torch.Size([46]).\n\tsize mismatch for bn_2.weight: copying a param with shape torch.Size([64]) from checkpoint, the shape in current model is torch.Size([46]).\n\tsize mismatch for bn_2.bias: copying a param with shape torch.Size([64]) from checkpoint, the shape in current model is torch.Size([46]).\n\tsize mismatch for bn_2.running_mean: copying a param with shape torch.Size([64]) from checkpoint, the shape in current model is torch.Size([46]).\n\tsize mismatch for bn_2.running_var: copying a param with shape torch.Size([64]) from checkpoint, the shape in current model is torch.Size([46]).\n\tsize mismatch for conv_3.weight: copying a param with shape torch.Size([32, 64, 3]) from checkpoint, the shape in current model is torch.Size([46, 46, 3]).\n\tsize mismatch for conv_3.bias: copying a param with shape torch.Size([32]) from checkpoint, the shape in current model is torch.Size([46]).\n\tsize mismatch for bn_3.weight: copying a param with shape torch.Size([32]) from checkpoint, the shape in current model is torch.Size([46]).\n\tsize mismatch for bn_3.bias: copying a param with shape torch.Size([32]) from checkpoint, the shape in current model is torch.Size([46]).\n\tsize mismatch for bn_3.running_mean: copying a param with shape torch.Size([32]) from checkpoint, the shape in current model is torch.Size([46]).\n\tsize mismatch for bn_3.running_var: copying a param with shape torch.Size([32]) from checkpoint, the shape in current model is torch.Size([46]).\n\tsize mismatch for classification_layer.weight: copying a param with shape torch.Size([3, 48]) from checkpoint, the shape in current model is torch.Size([3, 276])."
     ]
    }
   ],
   "source": [
    "from cogpred.models import WindowNetClassifier, BOLDCNN\n",
    "from torch import nn\n",
    "\n",
    "new_net = WindowNetClassifier(\n",
    "    module=BOLDCNN,\n",
    "    module__n_channels=sum(dmn_indexer),\n",
    "    module__window_size=int(expdict[\"winsize\"]),\n",
    "    criterion=nn.CrossEntropyLoss(),\n",
    "    **dict(params)\n",
    ")\n",
    "\n",
    "new_net.initialize()  # This is important!\n",
    "new_net.load_params(f_params=exppath / \"params.pkl\")"
   ]
  },
  {
   "cell_type": "code",
   "execution_count": 41,
   "metadata": {},
   "outputs": [],
   "source": [
    "from matplotlib.backends.backend_pdf import PdfPages\n",
    "from cogpred.plotting import plot_predictions\n",
    "label_mapping = [\"Stable\", \"Slow decline\", \"Steep decline\"]\n",
    "\n",
    "with PdfPages(\"output/inference.pdf\") as pdf:\n",
    "    for ts, label in zip(features, y_true):\n",
    "        ts = ts.T\n",
    "        ts = ts.reshape(1, *ts.shape)\n",
    "        p, mask = new_net.sliding_inference(ts, stride=6)\n",
    "        plot_predictions(p)\n",
    "        plt.title(f\"Ground truth : {label_mapping[label]}\")\n",
    "        pdf.savefig()\n",
    "        plt.close()\n",
    "\n",
    "    "
   ]
  },
  {
   "cell_type": "markdown",
   "metadata": {},
   "source": [
    "## All models, inference on test set"
   ]
  },
  {
   "cell_type": "code",
   "execution_count": null,
   "metadata": {},
   "outputs": [],
   "source": [
    "from cogpred.loading import make_test_data\n",
    "matrices, metadata = make_test_data(conn_dir, ATLAS, k)"
   ]
  },
  {
   "cell_type": "code",
   "execution_count": 58,
   "metadata": {},
   "outputs": [],
   "source": [
    "from nilearn.connectome.connectivity_matrices import sym_matrix_to_vec\n",
    "\n",
    "def make_fc_features(matrices, metadata):\n",
    "    X = []\n",
    "    for mat in matrices:\n",
    "        vec = sym_matrix_to_vec(mat, discard_diagonal=True)\n",
    "        vec_idx = np.flatnonzero(vec) # Should only be computed once\n",
    "        X.append(vec[vec_idx])\n",
    "\n",
    "    X = np.stack(X)\n",
    "    y = metadata.cluster_label\n",
    "    assert len(X) == len(y)\n",
    "    return X, y"
   ]
  },
  {
   "cell_type": "code",
   "execution_count": 70,
   "metadata": {},
   "outputs": [
    {
     "name": "stdout",
     "output_type": "stream",
     "text": [
      "k-3_feat-fc_atlas-schaefer200 has no available model\n",
      "k-3_feat-dummy has no available model\n",
      "I hate NN\n",
      "k-3_feat-series_experimental-True_atlas-schaefer200 has no available model\n",
      "k-3_feat-series_experimental-True_atlas-schaefer200_stamp-2024-07-04 18:10:38 has no available model\n",
      "k-3_feat-series_experimental-True_atlas-schaefer200_stamp-2024-07-05 10:30:43 has no available model\n",
      "k-3_feat-series_experimental-True_atlas-schaefer200_stamp-2024-07-05 11:16:56 has no available model\n",
      "k-3_feat-series_experimental-True_atlas-schaefer200_stamp-2024-07-05 12:13:19 has no available model\n",
      "k-3_feat-series_experimental-True_atlas-schaefer200_winsize-24_stamp-2024-07-05 13:00:50 has no available model\n",
      "k-3_feat-series_experimental-True_atlas-schaefer200_winsize-24_stamp-2024-07-05 13:02:36 has no available model\n",
      "k-3_feat-series_experimental-True_atlas-schaefer200_winsize-24_stamp-2024-07-05 13:06:46 has no available model\n",
      "k-3_feat-series_experimental-True_atlas-schaefer200_winsize-24_stamp-2024-07-05 13:49:20 has no available model\n",
      "k-3_feat-series_experimental-True_atlas-schaefer200_winsize-24_stamp-2024-07-05 13:51:57 has no available model\n",
      "k-3_feat-series_experimental-True_atlas-schaefer200_winsize-24_stamp-2024-07-05 13:53:33 has no available model\n",
      "k-3_feat-series_experimental-True_atlas-schaefer200_winsize-24_stamp-2024-07-05 14:09:03 has no available model\n",
      "k-3_feat-series_experimental-True_atlas-schaefer200_winsize-24_batch_size-1024_niter-10_stamp-2024-07-05-14:16 has no available model\n",
      "k-3_feat-series_experimental-True_atlas-schaefer200_winsize-24_batch_size-512_niter-50_stamp-2024-07-05-14:21 has no available model\n",
      "k-3_feat-series_experimental-True_atlas-schaefer200_winsize-24_batch_size-512_niter-5_stamp-2024-07-05-15:20 has no available model\n",
      "k-3_feat-series_experimental-True_atlas-schaefer200_winsize-48_batchsize-512_niter-1_stamp-2024-07-05-15:58 has no available model\n",
      "k-3_feat-series_experimental-True_atlas-schaefer200_winsize-48_batchsize-512_niter-10_stamp-2024-07-05-16:03 has no available model\n",
      "k-3_feat-series_experimental-True_atlas-schaefer200_winsize-48_batchsize-512_niter-10_stamp-2024-07-08-10:46 has no available model\n",
      "k-3_feat-series_experimental-True_atlas-schaefer200_winsize-96_batchsize-512_niter-10_stamp-2024-07-08-10:56 has no available model\n",
      "k-3_feat-series_experimental-True_atlas-schaefer200_winsize-96_batchsize-512_niter-10_stamp-2024-07-08-11:16 has no available model\n",
      "k-3_feat-series_experimental-True_atlas-schaefer200_winsize-96_batchsize-512_niter-10_stamp-2024-07-08-11:26 has no available model\n",
      "k-3_feat-series_experimental-True_atlas-schaefer200_winsize-96_batchsize-512_niter-10_stamp-2024-07-08-11:39 has no available model\n",
      "k-3_feat-series_experimental-True_atlas-schaefer200_winsize-96_batchsize-512_niter-10_stamp-2024-07-08-11:40 has no available model\n",
      "k-3_feat-series_experimental-True_atlas-schaefer200_winsize-96_batchsize-crossval_niter-100_stamp-2024-07-08-12:10 has no available model\n",
      "k-3_feat-fc_atlas-schaefer200_groupkfold-True has no available model\n",
      "k-3_feat-series_experimental-True_atlas-schaefer200_winsize-96_batchsize-crossval_niter-100_stamp-2024-07-08-13:42 has no available model\n",
      "k-3_feat-series_experimental-True_atlas-schaefer200_winsize-96_batchsize-crossval_niter-100_stamp-2024-07-09-10:02 has no available model\n"
     ]
    }
   ],
   "source": [
    "X_test, y_test = make_fc_features(matrices, metadata)\n",
    "\n",
    "estimators = dict()\n",
    "for subdir in dir.iterdir():\n",
    "    try:\n",
    "        model = joblib.load(subdir / \"best_estimator.joblib\")\n",
    "    except FileNotFoundError:\n",
    "        print(f\"{subdir.name} has no available model\")\n",
    "        continue\n",
    "    except AttributeError:\n",
    "        print(\"I hate NN\")\n",
    "    if \"experimental-True\" not in subdir.name:\n",
    "        estimators[subdir.name] = model\n"
   ]
  }
 ],
 "metadata": {
  "kernelspec": {
   "display_name": "cogpred",
   "language": "python",
   "name": "python3"
  },
  "language_info": {
   "codemirror_mode": {
    "name": "ipython",
    "version": 3
   },
   "file_extension": ".py",
   "mimetype": "text/x-python",
   "name": "python",
   "nbconvert_exporter": "python",
   "pygments_lexer": "ipython3",
   "version": "3.12.2"
  }
 },
 "nbformat": 4,
 "nbformat_minor": 2
}
