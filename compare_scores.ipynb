{
 "cells": [
  {
   "cell_type": "code",
   "execution_count": 1,
   "metadata": {},
   "outputs": [],
   "source": [
    "from cogpred.utils.naming import make_run_path\n",
    "import joblib\n",
    "from cogpred.utils.configuration import get_config\n",
    "from pathlib import Path\n",
    "\n",
    "config = get_config()\n",
    "dir = Path(config[\"output_dir\"]) / \"prediction\"\n",
    "ATLAS = \"schaefer200\"\n",
    "k = 3\n",
    "\n",
    "conn_dir = config[\"connectivity_matrices\"]"
   ]
  },
  {
   "cell_type": "code",
   "execution_count": 2,
   "metadata": {},
   "outputs": [
    {
     "name": "stdout",
     "output_type": "stream",
     "text": [
      "k-3_feat-series_experimental-True_atlas-schaefer200 has no available score\n",
      "k-3_feat-series_experimental-True_atlas-schaefer200_stamp-2024-07-04 18:10:38 has no available score\n",
      "k-3_feat-series_experimental-True_atlas-schaefer200_stamp-2024-07-05 10:30:43 has no available score\n",
      "k-3_feat-series_experimental-True_atlas-schaefer200_stamp-2024-07-05 11:16:56 has no available score\n",
      "k-3_feat-series_experimental-True_atlas-schaefer200_stamp-2024-07-05 12:13:19 has no available score\n",
      "k-3_feat-series_experimental-True_atlas-schaefer200_winsize-24_stamp-2024-07-05 13:00:50 has no available score\n",
      "k-3_feat-series_experimental-True_atlas-schaefer200_winsize-24_stamp-2024-07-05 13:02:36 has no available score\n",
      "k-3_feat-series_experimental-True_atlas-schaefer200_winsize-24_stamp-2024-07-05 13:06:46 has no available score\n",
      "k-3_feat-series_experimental-True_atlas-schaefer200_winsize-24_stamp-2024-07-05 13:49:20 has no available score\n",
      "k-3_feat-series_experimental-True_atlas-schaefer200_winsize-24_stamp-2024-07-05 13:51:57 has no available score\n",
      "k-3_feat-series_experimental-True_atlas-schaefer200_winsize-24_stamp-2024-07-05 13:53:33 has no available score\n",
      "k-3_feat-series_experimental-True_atlas-schaefer200_winsize-24_stamp-2024-07-05 14:09:03 has no available score\n",
      "k-3_feat-series_experimental-True_atlas-schaefer200_winsize-24_batch_size-1024_niter-10_stamp-2024-07-05-14:16 has no available score\n",
      "k-3_feat-series_experimental-True_atlas-schaefer200_winsize-24_batch_size-512_niter-50_stamp-2024-07-05-14:21 has no available score\n",
      "k-3_feat-series_experimental-True_atlas-schaefer200_winsize-24_batch_size-512_niter-5_stamp-2024-07-05-15:20 has no available score\n",
      "k-3_feat-series_experimental-True_atlas-schaefer200_winsize-48_batchsize-512_niter-1_stamp-2024-07-05-15:58 has no available score\n",
      "k-3_feat-series_experimental-True_atlas-schaefer200_winsize-48_batchsize-512_niter-10_stamp-2024-07-05-16:03 has no available score\n",
      "k-3_feat-series_experimental-True_atlas-schaefer200_winsize-48_batchsize-512_niter-10_stamp-2024-07-08-10:46 has no available score\n",
      "k-3_feat-series_experimental-True_atlas-schaefer200_winsize-96_batchsize-512_niter-10_stamp-2024-07-08-10:56 has no available score\n",
      "k-3_feat-series_experimental-True_atlas-schaefer200_winsize-96_batchsize-512_niter-10_stamp-2024-07-08-11:16 has no available score\n",
      "k-3_feat-series_experimental-True_atlas-schaefer200_winsize-96_batchsize-512_niter-10_stamp-2024-07-08-11:26 has no available score\n",
      "k-3_feat-series_experimental-True_atlas-schaefer200_winsize-96_batchsize-512_niter-10_stamp-2024-07-08-11:39 has no available score\n",
      "k-3_feat-series_experimental-True_atlas-schaefer200_winsize-96_batchsize-512_niter-10_stamp-2024-07-08-11:40 has no available score\n",
      "k-3_feat-series_experimental-True_atlas-schaefer200_winsize-96_batchsize-crossval_niter-100_stamp-2024-07-08-12:10 has no available score\n",
      "k-3_feat-series_experimental-True_atlas-schaefer200_winsize-96_batchsize-crossval_niter-100_stamp-2024-07-08-13:42 has no available score\n",
      "k-3_feat-series_experimental-True_atlas-schaefer200_winsize-96_batchsize-crossval_niter-100_stamp-2024-07-09-10:02 has no available score\n"
     ]
    }
   ],
   "source": [
    "import joblib\n",
    "# TODO make eval dict to sort experiments\n",
    "scores = []\n",
    "names = []\n",
    "for subdir in dir.iterdir():\n",
    "    try:\n",
    "        res = joblib.load(subdir / \"test_scores.joblib\")\n",
    "    except FileNotFoundError:\n",
    "        print(f\"{subdir.name} has no available score\")\n",
    "        continue\n",
    "    if \"experimental-True\" not in subdir.name:\n",
    "        scores.append(res)\n",
    "        names.append(subdir.name)"
   ]
  },
  {
   "cell_type": "markdown",
   "metadata": {},
   "source": [
    "## Display outer cv results"
   ]
  },
  {
   "cell_type": "code",
   "execution_count": 3,
   "metadata": {},
   "outputs": [
    {
     "data": {
      "text/html": [
       "<div>\n",
       "<style scoped>\n",
       "    .dataframe tbody tr th:only-of-type {\n",
       "        vertical-align: middle;\n",
       "    }\n",
       "\n",
       "    .dataframe tbody tr th {\n",
       "        vertical-align: top;\n",
       "    }\n",
       "\n",
       "    .dataframe thead th {\n",
       "        text-align: right;\n",
       "    }\n",
       "</style>\n",
       "<table border=\"1\" class=\"dataframe\">\n",
       "  <thead>\n",
       "    <tr style=\"text-align: right;\">\n",
       "      <th></th>\n",
       "      <th>split_1</th>\n",
       "      <th>split_2</th>\n",
       "      <th>split_3</th>\n",
       "      <th>split_4</th>\n",
       "      <th>split_5</th>\n",
       "      <th>split_6</th>\n",
       "      <th>split_7</th>\n",
       "      <th>split_8</th>\n",
       "    </tr>\n",
       "  </thead>\n",
       "  <tbody>\n",
       "    <tr>\n",
       "      <th>fc_atlas-schaefer200_groupkfold-True_net-allbrain</th>\n",
       "      <td>0.361941</td>\n",
       "      <td>0.37546</td>\n",
       "      <td>0.350978</td>\n",
       "      <td>0.325789</td>\n",
       "      <td>0.305397</td>\n",
       "      <td>0.298814</td>\n",
       "      <td>0.336853</td>\n",
       "      <td>0.325345</td>\n",
       "    </tr>\n",
       "    <tr>\n",
       "      <th>volumetry_atlas-schaefer200_experimental-False</th>\n",
       "      <td>0.486414</td>\n",
       "      <td>0.44463</td>\n",
       "      <td>0.382470</td>\n",
       "      <td>0.388240</td>\n",
       "      <td>0.441742</td>\n",
       "      <td>0.421520</td>\n",
       "      <td>0.330525</td>\n",
       "      <td>0.397381</td>\n",
       "    </tr>\n",
       "    <tr>\n",
       "      <th>dummy_experimental-False</th>\n",
       "      <td>0.274510</td>\n",
       "      <td>0.27591</td>\n",
       "      <td>0.287053</td>\n",
       "      <td>0.305210</td>\n",
       "      <td>0.281736</td>\n",
       "      <td>0.257937</td>\n",
       "      <td>0.275177</td>\n",
       "      <td>0.288799</td>\n",
       "    </tr>\n",
       "  </tbody>\n",
       "</table>\n",
       "</div>"
      ],
      "text/plain": [
       "                                                    split_1  split_2  \\\n",
       "fc_atlas-schaefer200_groupkfold-True_net-allbrain  0.361941  0.37546   \n",
       "volumetry_atlas-schaefer200_experimental-False     0.486414  0.44463   \n",
       "dummy_experimental-False                           0.274510  0.27591   \n",
       "\n",
       "                                                    split_3   split_4  \\\n",
       "fc_atlas-schaefer200_groupkfold-True_net-allbrain  0.350978  0.325789   \n",
       "volumetry_atlas-schaefer200_experimental-False     0.382470  0.388240   \n",
       "dummy_experimental-False                           0.287053  0.305210   \n",
       "\n",
       "                                                    split_5   split_6  \\\n",
       "fc_atlas-schaefer200_groupkfold-True_net-allbrain  0.305397  0.298814   \n",
       "volumetry_atlas-schaefer200_experimental-False     0.441742  0.421520   \n",
       "dummy_experimental-False                           0.281736  0.257937   \n",
       "\n",
       "                                                    split_7   split_8  \n",
       "fc_atlas-schaefer200_groupkfold-True_net-allbrain  0.336853  0.325345  \n",
       "volumetry_atlas-schaefer200_experimental-False     0.330525  0.397381  \n",
       "dummy_experimental-False                           0.275177  0.288799  "
      ]
     },
     "execution_count": 3,
     "metadata": {},
     "output_type": "execute_result"
    }
   ],
   "source": [
    "import pandas as pd\n",
    "import seaborn as sns\n",
    "def shorten(long_name):\n",
    "    return long_name.split(\"_\")[1].split(\"-\")[1]\n",
    "\n",
    "df = pd.DataFrame(scores, index=[name[9:] for name in names], columns=[f\"split_{i+1}\" for i in range(len(res))])\n",
    "df"
   ]
  },
  {
   "cell_type": "code",
   "execution_count": 4,
   "metadata": {},
   "outputs": [
    {
     "data": {
      "text/plain": [
       "fc_atlas-schaefer200_groupkfold-True_net-allbrain    0.335072\n",
       "volumetry_atlas-schaefer200_experimental-False       0.411615\n",
       "dummy_experimental-False                             0.280792\n",
       "dtype: float64"
      ]
     },
     "execution_count": 4,
     "metadata": {},
     "output_type": "execute_result"
    }
   ],
   "source": [
    "df.mean(axis=1)"
   ]
  },
  {
   "cell_type": "code",
   "execution_count": 5,
   "metadata": {},
   "outputs": [
    {
     "data": {
      "image/png": "[encoded data removed]",
      "text/plain": [
       "<Figure size 600x600 with 1 Axes>"
      ]
     },
     "metadata": {},
     "output_type": "display_data"
    }
   ],
   "source": [
    "import matplotlib.pyplot as plt\n",
    "m = df.T.melt(var_name=\"model\", value_name=\"macro F1\")\n",
    "plt.subplots(figsize=(6, 6))\n",
    "sns.boxplot(m, x=\"macro F1\", y=\"model\", hue=\"model\")\n",
    "plt.xlim(0)\n",
    "plt.show()"
   ]
  },
  {
   "cell_type": "markdown",
   "metadata": {},
   "source": [
    "## NN inference on test set"
   ]
  },
  {
   "cell_type": "code",
   "execution_count": 32,
   "metadata": {},
   "outputs": [],
   "source": [
    "import numpy as np\n",
    "from cogpred.features import make_features\n",
    "from cogpred.loading import make_test_data, TSFetcher\n",
    "from neuroginius.atlas import Atlas\n",
    "ATLAS = \"schaefer200\"\n",
    "tspath = Path(\"/georges/memento/BIDS/derivatives/schaeffer200_merged_phenotypes\")\n"
   ]
  },
  {
   "cell_type": "code",
   "execution_count": 33,
   "metadata": {},
   "outputs": [
    {
     "name": "stdout",
     "output_type": "stream",
     "text": [
      "Dropping 4 subjects because of lacking MMMSE\n"
     ]
    }
   ],
   "source": [
    "atlas = Atlas.from_name(ATLAS)\n",
    "matrices, metadata = make_test_data(conn_dir, ATLAS, k=3)\n",
    "dmn_indexer = np.where(np.array(atlas.macro_labels) == \"Default\", True, False)\n",
    "fetcher = TSFetcher(tspath)\n",
    "features = make_features(fetcher, metadata, dmn_indexer)"
   ]
  },
  {
   "cell_type": "code",
   "execution_count": 34,
   "metadata": {},
   "outputs": [],
   "source": [
    "y_true = metadata.cluster_label.values.astype(int)"
   ]
  },
  {
   "cell_type": "code",
   "execution_count": 35,
   "metadata": {},
   "outputs": [],
   "source": [
    "EXPDIR = \"/homes_unix/jlegrand/data/Memento/output/prediction\"\n",
    "exppath = Path(EXPDIR) / \"k-3_feat-series_experimental-True_atlas-schaefer200_winsize-96_batchsize-512_niter-10_stamp-2024-07-08-10:56\"\n",
    "cvres = pd.read_csv(exppath / \"cv_results.csv\", index_col=0)\n",
    "params = eval(cvres.loc[0, \"params\"])\n",
    "expdict = dict()\n",
    "for k in exppath.name.split(\"_\"):\n",
    "    exptag = k.split(\"-\")\n",
    "    expdict[exptag[0]] = exptag[1]"
   ]
  },
  {
   "cell_type": "code",
   "execution_count": 36,
   "metadata": {},
   "outputs": [
    {
     "name": "stdout",
     "output_type": "stream",
     "text": [
      "46 96\n",
      "46 48\n",
      "46 24\n",
      "46 12\n",
      "46 6\n"
     ]
    }
   ],
   "source": [
    "from cogpred.models import WindowNetClassifier, BOLDCNN\n",
    "from torch import nn\n",
    "\n",
    "new_net = WindowNetClassifier(\n",
    "    module=BOLDCNN,\n",
    "    module__n_channels=sum(dmn_indexer),\n",
    "    module__window_size=int(expdict[\"winsize\"]),\n",
    "    criterion=nn.CrossEntropyLoss(),\n",
    "    **params\n",
    ")\n",
    "\n",
    "new_net.initialize()  # This is important!\n",
    "new_net.load_params(f_params=exppath / \"params.pkl\")"
   ]
  },
  {
   "cell_type": "code",
   "execution_count": 41,
   "metadata": {},
   "outputs": [],
   "source": [
    "from matplotlib.backends.backend_pdf import PdfPages\n",
    "from cogpred.plotting import plot_predictions\n",
    "label_mapping = [\"Stable\", \"Slow decline\", \"Steep decline\"]\n",
    "\n",
    "with PdfPages(\"output/inference.pdf\") as pdf:\n",
    "    for ts, label in zip(features, y_true):\n",
    "        ts = ts.T\n",
    "        ts = ts.reshape(1, *ts.shape)\n",
    "        p, mask = new_net.sliding_inference(ts, stride=6)\n",
    "        plot_predictions(p)\n",
    "        plt.title(f\"Ground truth : {label_mapping[label]}\")\n",
    "        pdf.savefig()\n",
    "        plt.close()\n",
    "\n",
    "    "
   ]
  },
  {
   "cell_type": "markdown",
   "metadata": {},
   "source": [
    "## All models, inference on test set"
   ]
  },
  {
   "cell_type": "code",
   "execution_count": null,
   "metadata": {},
   "outputs": [],
   "source": [
    "from cogpred.loading import make_test_data\n",
    "matrices, metadata = make_test_data(conn_dir, ATLAS, k)"
   ]
  },
  {
   "cell_type": "code",
   "execution_count": 58,
   "metadata": {},
   "outputs": [],
   "source": [
    "from nilearn.connectome.connectivity_matrices import sym_matrix_to_vec\n",
    "\n",
    "def make_fc_features(matrices, metadata):\n",
    "    X = []\n",
    "    for mat in matrices:\n",
    "        vec = sym_matrix_to_vec(mat, discard_diagonal=True)\n",
    "        vec_idx = np.flatnonzero(vec) # Should only be computed once\n",
    "        X.append(vec[vec_idx])\n",
    "\n",
    "    X = np.stack(X)\n",
    "    y = metadata.cluster_label\n",
    "    assert len(X) == len(y)\n",
    "    return X, y"
   ]
  },
  {
   "cell_type": "code",
   "execution_count": 70,
   "metadata": {},
   "outputs": [
    {
     "name": "stdout",
     "output_type": "stream",
     "text": [
      "k-3_feat-fc_atlas-schaefer200 has no available model\n",
      "k-3_feat-dummy has no available model\n",
      "I hate NN\n",
      "k-3_feat-series_experimental-True_atlas-schaefer200 has no available model\n",
      "k-3_feat-series_experimental-True_atlas-schaefer200_stamp-2024-07-04 18:10:38 has no available model\n",
      "k-3_feat-series_experimental-True_atlas-schaefer200_stamp-2024-07-05 10:30:43 has no available model\n",
      "k-3_feat-series_experimental-True_atlas-schaefer200_stamp-2024-07-05 11:16:56 has no available model\n",
      "k-3_feat-series_experimental-True_atlas-schaefer200_stamp-2024-07-05 12:13:19 has no available model\n",
      "k-3_feat-series_experimental-True_atlas-schaefer200_winsize-24_stamp-2024-07-05 13:00:50 has no available model\n",
      "k-3_feat-series_experimental-True_atlas-schaefer200_winsize-24_stamp-2024-07-05 13:02:36 has no available model\n",
      "k-3_feat-series_experimental-True_atlas-schaefer200_winsize-24_stamp-2024-07-05 13:06:46 has no available model\n",
      "k-3_feat-series_experimental-True_atlas-schaefer200_winsize-24_stamp-2024-07-05 13:49:20 has no available model\n",
      "k-3_feat-series_experimental-True_atlas-schaefer200_winsize-24_stamp-2024-07-05 13:51:57 has no available model\n",
      "k-3_feat-series_experimental-True_atlas-schaefer200_winsize-24_stamp-2024-07-05 13:53:33 has no available model\n",
      "k-3_feat-series_experimental-True_atlas-schaefer200_winsize-24_stamp-2024-07-05 14:09:03 has no available model\n",
      "k-3_feat-series_experimental-True_atlas-schaefer200_winsize-24_batch_size-1024_niter-10_stamp-2024-07-05-14:16 has no available model\n",
      "k-3_feat-series_experimental-True_atlas-schaefer200_winsize-24_batch_size-512_niter-50_stamp-2024-07-05-14:21 has no available model\n",
      "k-3_feat-series_experimental-True_atlas-schaefer200_winsize-24_batch_size-512_niter-5_stamp-2024-07-05-15:20 has no available model\n",
      "k-3_feat-series_experimental-True_atlas-schaefer200_winsize-48_batchsize-512_niter-1_stamp-2024-07-05-15:58 has no available model\n",
      "k-3_feat-series_experimental-True_atlas-schaefer200_winsize-48_batchsize-512_niter-10_stamp-2024-07-05-16:03 has no available model\n",
      "k-3_feat-series_experimental-True_atlas-schaefer200_winsize-48_batchsize-512_niter-10_stamp-2024-07-08-10:46 has no available model\n",
      "k-3_feat-series_experimental-True_atlas-schaefer200_winsize-96_batchsize-512_niter-10_stamp-2024-07-08-10:56 has no available model\n",
      "k-3_feat-series_experimental-True_atlas-schaefer200_winsize-96_batchsize-512_niter-10_stamp-2024-07-08-11:16 has no available model\n",
      "k-3_feat-series_experimental-True_atlas-schaefer200_winsize-96_batchsize-512_niter-10_stamp-2024-07-08-11:26 has no available model\n",
      "k-3_feat-series_experimental-True_atlas-schaefer200_winsize-96_batchsize-512_niter-10_stamp-2024-07-08-11:39 has no available model\n",
      "k-3_feat-series_experimental-True_atlas-schaefer200_winsize-96_batchsize-512_niter-10_stamp-2024-07-08-11:40 has no available model\n",
      "k-3_feat-series_experimental-True_atlas-schaefer200_winsize-96_batchsize-crossval_niter-100_stamp-2024-07-08-12:10 has no available model\n",
      "k-3_feat-fc_atlas-schaefer200_groupkfold-True has no available model\n",
      "k-3_feat-series_experimental-True_atlas-schaefer200_winsize-96_batchsize-crossval_niter-100_stamp-2024-07-08-13:42 has no available model\n",
      "k-3_feat-series_experimental-True_atlas-schaefer200_winsize-96_batchsize-crossval_niter-100_stamp-2024-07-09-10:02 has no available model\n"
     ]
    }
   ],
   "source": [
    "X_test, y_test = make_fc_features(matrices, metadata)\n",
    "\n",
    "estimators = dict()\n",
    "for subdir in dir.iterdir():\n",
    "    try:\n",
    "        model = joblib.load(subdir / \"best_estimator.joblib\")\n",
    "    except FileNotFoundError:\n",
    "        print(f\"{subdir.name} has no available model\")\n",
    "        continue\n",
    "    except AttributeError:\n",
    "        print(\"I hate NN\")\n",
    "    if \"experimental-True\" not in subdir.name:\n",
    "        estimators[subdir.name] = model\n"
   ]
  }
 ],
 "metadata": {
  "kernelspec": {
   "display_name": "cogpred",
   "language": "python",
   "name": "python3"
  },
  "language_info": {
   "codemirror_mode": {
    "name": "ipython",
    "version": 3
   },
   "file_extension": ".py",
   "mimetype": "text/x-python",
   "name": "python",
   "nbconvert_exporter": "python",
   "pygments_lexer": "ipython3",
   "version": "3.12.2"
  }
 },
 "nbformat": 4,
 "nbformat_minor": 2
}
