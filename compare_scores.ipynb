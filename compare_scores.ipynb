{
 "cells": [
  {
   "cell_type": "code",
   "execution_count": 1,
   "metadata": {},
   "outputs": [],
   "source": [
    "from cogpred.utils.naming import make_run_path\n",
    "import joblib\n",
    "from cogpred.utils.configuration import get_config\n",
    "from pathlib import Path\n",
    "\n",
    "config = get_config()\n",
    "dir = Path(config[\"output_dir\"]) / \"prediction\"\n",
    "ATLAS = \"schaefer200\"\n",
    "k = 3\n",
    "\n",
    "conn_dir = config[\"connectivity_matrices\"]"
   ]
  },
  {
   "cell_type": "code",
   "execution_count": 2,
   "metadata": {},
   "outputs": [
    {
     "name": "stdout",
     "output_type": "stream",
     "text": [
      "k-3_feat-series_experimental-True_atlas-schaefer200_winsize-128_batchsize-512_niter-20_stamp-2024-07-10-16:56 has no available score\n",
      "k-3_feat-series_experimental-True_atlas-schaefer200 has no available score\n",
      "k-3_feat-series_experimental-True_atlas-schaefer200_stamp-2024-07-04 18:10:38 has no available score\n",
      "k-3_feat-series_experimental-True_atlas-schaefer200_stamp-2024-07-05 10:30:43 has no available score\n",
      "k-3_feat-series_experimental-True_atlas-schaefer200_stamp-2024-07-05 11:16:56 has no available score\n",
      "k-3_feat-series_experimental-True_atlas-schaefer200_stamp-2024-07-05 12:13:19 has no available score\n",
      "k-3_feat-series_experimental-True_atlas-schaefer200_winsize-24_stamp-2024-07-05 13:00:50 has no available score\n",
      "k-3_feat-series_experimental-True_atlas-schaefer200_winsize-24_stamp-2024-07-05 13:02:36 has no available score\n",
      "k-3_feat-series_experimental-True_atlas-schaefer200_winsize-24_stamp-2024-07-05 13:06:46 has no available score\n",
      "k-3_feat-series_experimental-True_atlas-schaefer200_winsize-24_stamp-2024-07-05 13:49:20 has no available score\n",
      "k-3_feat-series_experimental-True_atlas-schaefer200_winsize-24_stamp-2024-07-05 13:51:57 has no available score\n",
      "k-3_feat-series_experimental-True_atlas-schaefer200_winsize-24_stamp-2024-07-05 13:53:33 has no available score\n",
      "k-3_feat-series_experimental-True_atlas-schaefer200_winsize-24_stamp-2024-07-05 14:09:03 has no available score\n",
      "k-3_feat-series_experimental-True_atlas-schaefer200_winsize-24_batch_size-1024_niter-10_stamp-2024-07-05-14:16 has no available score\n",
      "k-3_feat-series_experimental-True_atlas-schaefer200_winsize-24_batch_size-512_niter-50_stamp-2024-07-05-14:21 has no available score\n",
      "k-3_feat-series_experimental-True_atlas-schaefer200_winsize-24_batch_size-512_niter-5_stamp-2024-07-05-15:20 has no available score\n",
      "k-3_feat-series_experimental-True_atlas-schaefer200_winsize-48_batchsize-512_niter-1_stamp-2024-07-05-15:58 has no available score\n",
      "k-3_feat-series_experimental-True_atlas-schaefer200_winsize-48_batchsize-512_niter-10_stamp-2024-07-05-16:03 has no available score\n",
      "k-3_feat-series_experimental-True_atlas-schaefer200_winsize-48_batchsize-512_niter-10_stamp-2024-07-08-10:46 has no available score\n",
      "k-3_feat-series_experimental-True_atlas-schaefer200_winsize-96_batchsize-512_niter-10_stamp-2024-07-08-10:56 has no available score\n",
      "k-3_feat-series_experimental-True_atlas-schaefer200_winsize-96_batchsize-512_niter-10_stamp-2024-07-08-11:16 has no available score\n",
      "k-3_feat-series_experimental-True_atlas-schaefer200_winsize-96_batchsize-512_niter-10_stamp-2024-07-08-11:26 has no available score\n",
      "k-3_feat-series_experimental-True_atlas-schaefer200_winsize-96_batchsize-512_niter-10_stamp-2024-07-08-11:39 has no available score\n",
      "k-3_feat-series_experimental-True_atlas-schaefer200_winsize-96_batchsize-512_niter-10_stamp-2024-07-08-11:40 has no available score\n",
      "k-3_feat-series_experimental-True_atlas-schaefer200_winsize-96_batchsize-crossval_niter-100_stamp-2024-07-08-12:10 has no available score\n",
      "k-3_feat-series_experimental-True_atlas-schaefer200_winsize-96_batchsize-crossval_niter-100_stamp-2024-07-08-13:42 has no available score\n",
      "k-3_feat-series_experimental-True_atlas-schaefer200_winsize-96_batchsize-crossval_niter-100_stamp-2024-07-09-10:02 has no available score\n",
      "k-3_feat-series_experimental-True_atlas-schaefer200_winsize-128_batchsize-512_niter-20_stamp-2024-07-10-11:49 has no available score\n",
      "k-3_feat-series_experimental-True_atlas-schaefer200_winsize-128_batchsize-512_niter-20_stamp-2024-07-10-17:00 has no available score\n",
      "k-3_feat-fc_atlas-schaefer200_groupkfold-True_net-Default_inter-Default has no available score\n",
      "k-3_feat-series_experimental-True_atlas-schaefer200_winsize-128_batchsize-512_niter-5_stamp-2024-07-11-16:42 has no available score\n",
      "k-3_feat-series_experimental-True_atlas-schaefer200_winsize-128_batchsize-512_niter-5_stamp-2024-07-11-16:50 has no available score\n",
      "k-3_feat-series_experimental-True_atlas-schaefer200_winsize-24_batchsize-512_niter-50_stamp-2024-07-11-17:02 has no available score\n",
      "k-3_feat-series_experimental-True_atlas-schaefer200_winsize-24_batchsize-512_niter-50_stamp-2024-07-11-17:08 has no available score\n",
      "k-3_feat-series_experimental-True_atlas-schaefer200_winsize-48_batchsize-512_niter-50_stamp-2024-07-12-09:43 has no available score\n",
      "k-3_feat-series_experimental-True_atlas-schaefer200_winsize-48_batchsize-512_niter-50_stamp-2024-07-12-09:44 has no available score\n"
     ]
    }
   ],
   "source": [
    "import joblib\n",
    "# TODO make eval dict to sort experiments\n",
    "scores = []\n",
    "names = []\n",
    "for subdir in dir.iterdir():\n",
    "    try:\n",
    "        res = joblib.load(subdir / \"test_scores.joblib\")\n",
    "    except FileNotFoundError:\n",
    "        print(f\"{subdir.name} has no available score\")\n",
    "        continue\n",
    "    if \"experimental-True\" not in subdir.name:\n",
    "        scores.append(res)\n",
    "        names.append(subdir.name)"
   ]
  },
  {
   "cell_type": "markdown",
   "metadata": {},
   "source": [
    "## Display outer cv results"
   ]
  },
  {
   "cell_type": "code",
   "execution_count": 3,
   "metadata": {},
   "outputs": [
    {
     "data": {
      "text/html": [
       "<div>\n",
       "<style scoped>\n",
       "    .dataframe tbody tr th:only-of-type {\n",
       "        vertical-align: middle;\n",
       "    }\n",
       "\n",
       "    .dataframe tbody tr th {\n",
       "        vertical-align: top;\n",
       "    }\n",
       "\n",
       "    .dataframe thead th {\n",
       "        text-align: right;\n",
       "    }\n",
       "</style>\n",
       "<table border=\"1\" class=\"dataframe\">\n",
       "  <thead>\n",
       "    <tr style=\"text-align: right;\">\n",
       "      <th></th>\n",
       "      <th>split_1</th>\n",
       "      <th>split_2</th>\n",
       "      <th>split_3</th>\n",
       "      <th>split_4</th>\n",
       "      <th>split_5</th>\n",
       "      <th>split_6</th>\n",
       "      <th>split_7</th>\n",
       "      <th>split_8</th>\n",
       "    </tr>\n",
       "  </thead>\n",
       "  <tbody>\n",
       "    <tr>\n",
       "      <th>fc_atlas-schaefer200_groupkfold-True_net-allbrain</th>\n",
       "      <td>0.361941</td>\n",
       "      <td>0.375460</td>\n",
       "      <td>0.350978</td>\n",
       "      <td>0.325789</td>\n",
       "      <td>0.305397</td>\n",
       "      <td>0.298814</td>\n",
       "      <td>0.336853</td>\n",
       "      <td>0.325345</td>\n",
       "    </tr>\n",
       "    <tr>\n",
       "      <th>volumetry_atlas-schaefer200_experimental-False</th>\n",
       "      <td>0.478986</td>\n",
       "      <td>0.417284</td>\n",
       "      <td>0.319653</td>\n",
       "      <td>0.429589</td>\n",
       "      <td>0.443938</td>\n",
       "      <td>0.424431</td>\n",
       "      <td>0.360872</td>\n",
       "      <td>0.413831</td>\n",
       "    </tr>\n",
       "    <tr>\n",
       "      <th>dummy_experimental-False</th>\n",
       "      <td>0.274691</td>\n",
       "      <td>0.282486</td>\n",
       "      <td>0.261905</td>\n",
       "      <td>0.293333</td>\n",
       "      <td>0.246499</td>\n",
       "      <td>0.314700</td>\n",
       "      <td>0.285714</td>\n",
       "      <td>0.291209</td>\n",
       "    </tr>\n",
       "    <tr>\n",
       "      <th>fc_atlas-schaefer200_groupkfold-True_net-Default</th>\n",
       "      <td>0.352638</td>\n",
       "      <td>0.368678</td>\n",
       "      <td>0.343780</td>\n",
       "      <td>0.323266</td>\n",
       "      <td>0.311541</td>\n",
       "      <td>0.376377</td>\n",
       "      <td>0.390324</td>\n",
       "      <td>0.316162</td>\n",
       "    </tr>\n",
       "    <tr>\n",
       "      <th>fc_atlas-schaefer200_groupkfold-True_net-Limbic</th>\n",
       "      <td>0.378662</td>\n",
       "      <td>0.394759</td>\n",
       "      <td>0.313088</td>\n",
       "      <td>0.320193</td>\n",
       "      <td>0.333176</td>\n",
       "      <td>0.308583</td>\n",
       "      <td>0.327899</td>\n",
       "      <td>0.328943</td>\n",
       "    </tr>\n",
       "    <tr>\n",
       "      <th>fc_atlas-schaefer200_groupkfold-True_net-Limbic_inter-SomMot</th>\n",
       "      <td>0.303175</td>\n",
       "      <td>0.342593</td>\n",
       "      <td>0.309982</td>\n",
       "      <td>0.338265</td>\n",
       "      <td>0.350372</td>\n",
       "      <td>0.314110</td>\n",
       "      <td>0.370732</td>\n",
       "      <td>0.349282</td>\n",
       "    </tr>\n",
       "    <tr>\n",
       "      <th>fc_atlas-schaefer200_groupkfold-True_net-SomMot_inter-SomMot</th>\n",
       "      <td>0.365325</td>\n",
       "      <td>0.256410</td>\n",
       "      <td>0.316745</td>\n",
       "      <td>0.307818</td>\n",
       "      <td>0.292023</td>\n",
       "      <td>0.314903</td>\n",
       "      <td>0.334667</td>\n",
       "      <td>0.334156</td>\n",
       "    </tr>\n",
       "  </tbody>\n",
       "</table>\n",
       "</div>"
      ],
      "text/plain": [
       "                                                     split_1   split_2  \\\n",
       "fc_atlas-schaefer200_groupkfold-True_net-allbrain   0.361941  0.375460   \n",
       "volumetry_atlas-schaefer200_experimental-False      0.478986  0.417284   \n",
       "dummy_experimental-False                            0.274691  0.282486   \n",
       "fc_atlas-schaefer200_groupkfold-True_net-Default    0.352638  0.368678   \n",
       "fc_atlas-schaefer200_groupkfold-True_net-Limbic     0.378662  0.394759   \n",
       "fc_atlas-schaefer200_groupkfold-True_net-Limbic...  0.303175  0.342593   \n",
       "fc_atlas-schaefer200_groupkfold-True_net-SomMot...  0.365325  0.256410   \n",
       "\n",
       "                                                     split_3   split_4  \\\n",
       "fc_atlas-schaefer200_groupkfold-True_net-allbrain   0.350978  0.325789   \n",
       "volumetry_atlas-schaefer200_experimental-False      0.319653  0.429589   \n",
       "dummy_experimental-False                            0.261905  0.293333   \n",
       "fc_atlas-schaefer200_groupkfold-True_net-Default    0.343780  0.323266   \n",
       "fc_atlas-schaefer200_groupkfold-True_net-Limbic     0.313088  0.320193   \n",
       "fc_atlas-schaefer200_groupkfold-True_net-Limbic...  0.309982  0.338265   \n",
       "fc_atlas-schaefer200_groupkfold-True_net-SomMot...  0.316745  0.307818   \n",
       "\n",
       "                                                     split_5   split_6  \\\n",
       "fc_atlas-schaefer200_groupkfold-True_net-allbrain   0.305397  0.298814   \n",
       "volumetry_atlas-schaefer200_experimental-False      0.443938  0.424431   \n",
       "dummy_experimental-False                            0.246499  0.314700   \n",
       "fc_atlas-schaefer200_groupkfold-True_net-Default    0.311541  0.376377   \n",
       "fc_atlas-schaefer200_groupkfold-True_net-Limbic     0.333176  0.308583   \n",
       "fc_atlas-schaefer200_groupkfold-True_net-Limbic...  0.350372  0.314110   \n",
       "fc_atlas-schaefer200_groupkfold-True_net-SomMot...  0.292023  0.314903   \n",
       "\n",
       "                                                     split_7   split_8  \n",
       "fc_atlas-schaefer200_groupkfold-True_net-allbrain   0.336853  0.325345  \n",
       "volumetry_atlas-schaefer200_experimental-False      0.360872  0.413831  \n",
       "dummy_experimental-False                            0.285714  0.291209  \n",
       "fc_atlas-schaefer200_groupkfold-True_net-Default    0.390324  0.316162  \n",
       "fc_atlas-schaefer200_groupkfold-True_net-Limbic     0.327899  0.328943  \n",
       "fc_atlas-schaefer200_groupkfold-True_net-Limbic...  0.370732  0.349282  \n",
       "fc_atlas-schaefer200_groupkfold-True_net-SomMot...  0.334667  0.334156  "
      ]
     },
     "execution_count": 3,
     "metadata": {},
     "output_type": "execute_result"
    }
   ],
   "source": [
    "import pandas as pd\n",
    "import seaborn as sns\n",
    "def shorten(long_name):\n",
    "    return long_name.split(\"_\")[1].split(\"-\")[1]\n",
    "\n",
    "df = pd.DataFrame(scores, index=[name[9:] for name in names], columns=[f\"split_{i+1}\" for i in range(len(res))])\n",
    "df"
   ]
  },
  {
   "cell_type": "code",
   "execution_count": 4,
   "metadata": {},
   "outputs": [
    {
     "data": {
      "text/plain": [
       "fc_atlas-schaefer200_groupkfold-True_net-allbrain               0.335072\n",
       "volumetry_atlas-schaefer200_experimental-False                  0.411073\n",
       "dummy_experimental-False                                        0.281317\n",
       "fc_atlas-schaefer200_groupkfold-True_net-Default                0.347846\n",
       "fc_atlas-schaefer200_groupkfold-True_net-Limbic                 0.338163\n",
       "fc_atlas-schaefer200_groupkfold-True_net-Limbic_inter-SomMot    0.334814\n",
       "fc_atlas-schaefer200_groupkfold-True_net-SomMot_inter-SomMot    0.315256\n",
       "dtype: float64"
      ]
     },
     "execution_count": 4,
     "metadata": {},
     "output_type": "execute_result"
    }
   ],
   "source": [
    "df.mean(axis=1)"
   ]
  },
  {
   "cell_type": "code",
   "execution_count": 5,
   "metadata": {},
   "outputs": [
    {
     "data": {
      "image/png": "[encoded data removed]",
      "text/plain": [
       "<Figure size 600x600 with 1 Axes>"
      ]
     },
     "metadata": {},
     "output_type": "display_data"
    }
   ],
   "source": [
    "import matplotlib.pyplot as plt\n",
    "m = df.T.melt(var_name=\"model\", value_name=\"macro F1\")\n",
    "plt.subplots(figsize=(6, 6))\n",
    "sns.boxplot(m, x=\"macro F1\", y=\"model\", hue=\"model\")\n",
    "plt.xlim(0)\n",
    "plt.show()"
   ]
  },
  {
   "cell_type": "markdown",
   "metadata": {},
   "source": [
    "## NN inference on test set"
   ]
  },
  {
   "cell_type": "code",
   "execution_count": 6,
   "metadata": {},
   "outputs": [],
   "source": [
    "import numpy as np\n",
    "from cogpred.features import make_features\n",
    "from cogpred.loading import make_test_data, TSFetcher\n",
    "from neuroginius.atlas import Atlas\n",
    "ATLAS = \"schaefer200\"\n",
    "tspath = Path(\"/georges/memento/BIDS/derivatives/schaeffer200_merged_phenotypes\")\n"
   ]
  },
  {
   "cell_type": "code",
   "execution_count": 7,
   "metadata": {},
   "outputs": [
    {
     "name": "stdout",
     "output_type": "stream",
     "text": [
      "Dropping 4 subjects because of lacking MMMSE\n"
     ]
    }
   ],
   "source": [
    "atlas = Atlas.from_name(ATLAS)\n",
    "matrices, metadata = make_test_data(conn_dir, ATLAS, k=3)\n",
    "net_indexer = np.where(np.array(atlas.macro_labels) == \"SomMot\", True, False)\n",
    "net_indexer += np.where(np.array(atlas.macro_labels) == \"Limbic\", True, False)\n",
    "fetcher = TSFetcher(tspath)\n",
    "features = make_features(fetcher, metadata, net_indexer)"
   ]
  },
  {
   "cell_type": "code",
   "execution_count": 8,
   "metadata": {},
   "outputs": [],
   "source": [
    "y_true = metadata.cluster_label.values.astype(int)"
   ]
  },
  {
   "cell_type": "code",
   "execution_count": 15,
   "metadata": {},
   "outputs": [],
   "source": [
    "import json\n",
    "from collections import OrderedDict\n",
    "from cogpred.models import default_channel_func, initial_bump, slow_increase, fast_increase, constant_channels\n",
    "\n",
    "EXPDIR = \"/homes_unix/jlegrand/data/Memento/output/prediction\"\n",
    "exppath = Path(EXPDIR) / \"k-3_feat-series_experimental-True_atlas-schaefer200_winsize-48_batchsize-512_niter-50_stamp-2024-07-12-09:44\"\n",
    "cvres = pd.read_csv(exppath / \"cv_results.csv\", index_col=0)\n",
    "with open(exppath / \"architecture.json\", \"r\") as file:\n",
    "    params = json.load(file)\n",
    "\n",
    "params[\"module__channel_func\"] = eval(params[\"module__channel_func\"])\n",
    "\n",
    "expdict = dict()\n",
    "for k in exppath.name.split(\"_\"):\n",
    "    exptag = k.split(\"-\")\n",
    "    expdict[exptag[0]] = exptag[1]\n"
   ]
  },
  {
   "cell_type": "code",
   "execution_count": 16,
   "metadata": {},
   "outputs": [
    {
     "name": "stdout",
     "output_type": "stream",
     "text": [
      "47 48\n",
      "94 24\n",
      "188 12\n"
     ]
    }
   ],
   "source": [
    "from cogpred.models import WindowNetClassifier, BOLDCNN\n",
    "from torch import nn\n",
    "\n",
    "new_net = WindowNetClassifier(\n",
    "    module=BOLDCNN,\n",
    "    module__n_channels=sum(net_indexer),\n",
    "    module__window_size=int(expdict[\"winsize\"]),\n",
    "    criterion=nn.CrossEntropyLoss(),\n",
    "    **params\n",
    ")\n",
    "\n",
    "new_net.initialize()  # This is important!\n",
    "new_net.load_params(f_params=exppath / \"params.pkl\")"
   ]
  },
  {
   "cell_type": "code",
   "execution_count": 17,
   "metadata": {},
   "outputs": [],
   "source": [
    "from matplotlib.backends.backend_pdf import PdfPages\n",
    "from cogpred.plotting import plot_predictions, plot_ts\n",
    "label_mapping = [\"Stable\", \"Slow decline\", \"Steep decline\"]\n",
    "\n",
    "with PdfPages(\"output/inference.pdf\") as pdf:\n",
    "    for ts, label in zip(features, y_true):\n",
    "        ts = ts.T\n",
    "        ts = ts.reshape(1, *ts.shape)\n",
    "        p, mask = new_net.sliding_inference(ts, stride=6)\n",
    "        fig, axes = plt.subplots(2, 1, figsize=(8, 8))\n",
    "        \n",
    "        plot_ts(ts.squeeze().T, ax=axes[0])\n",
    "        plot_predictions(p, axes[1])\n",
    "        fig.suptitle(f\"Ground truth : {label_mapping[label]}\")\n",
    "        pdf.savefig()\n",
    "        plt.close()\n",
    "\n",
    "    "
   ]
  },
  {
   "cell_type": "markdown",
   "metadata": {},
   "source": [
    "## All models, inference on test set"
   ]
  },
  {
   "cell_type": "code",
   "execution_count": 14,
   "metadata": {},
   "outputs": [
    {
     "ename": "FileNotFoundError",
     "evalue": "[Errno 2] No such file or directory: 'data/cluster_stamp-2024-07-11-17:08_labels.csv'",
     "output_type": "error",
     "traceback": [
      "\u001b[0;31m---------------------------------------------------------------------------\u001b[0m",
      "\u001b[0;31mFileNotFoundError\u001b[0m                         Traceback (most recent call last)",
      "Cell \u001b[0;32mIn[14], line 2\u001b[0m\n\u001b[1;32m      1\u001b[0m \u001b[38;5;28;01mfrom\u001b[39;00m \u001b[38;5;21;01mcogpred\u001b[39;00m\u001b[38;5;21;01m.\u001b[39;00m\u001b[38;5;21;01mloading\u001b[39;00m \u001b[38;5;28;01mimport\u001b[39;00m make_test_data\n\u001b[0;32m----> 2\u001b[0m matrices, metadata \u001b[38;5;241m=\u001b[39m \u001b[43mmake_test_data\u001b[49m\u001b[43m(\u001b[49m\u001b[43mconn_dir\u001b[49m\u001b[43m,\u001b[49m\u001b[43m \u001b[49m\u001b[43mATLAS\u001b[49m\u001b[43m,\u001b[49m\u001b[43m \u001b[49m\u001b[43mk\u001b[49m\u001b[43m)\u001b[49m\n",
      "File \u001b[0;32m/bigdata/jlegrand/cogpred/cogpred/loading.py:12\u001b[0m, in \u001b[0;36mmake_test_data\u001b[0;34m(conn_dir, atlas, k, test_centre)\u001b[0m\n\u001b[1;32m     10\u001b[0m matrices \u001b[38;5;241m=\u001b[39m joblib\u001b[38;5;241m.\u001b[39mload(\u001b[38;5;124mf\u001b[39m\u001b[38;5;124m\"\u001b[39m\u001b[38;5;132;01m{\u001b[39;00mconn_dir\u001b[38;5;132;01m}\u001b[39;00m\u001b[38;5;124m/atlas-\u001b[39m\u001b[38;5;132;01m{\u001b[39;00matlas\u001b[38;5;132;01m}\u001b[39;00m\u001b[38;5;124m_prediction/all_subs.joblib\u001b[39m\u001b[38;5;124m\"\u001b[39m)\n\u001b[1;32m     11\u001b[0m metadata \u001b[38;5;241m=\u001b[39m pd\u001b[38;5;241m.\u001b[39mread_csv(\u001b[38;5;124mf\u001b[39m\u001b[38;5;124m\"\u001b[39m\u001b[38;5;132;01m{\u001b[39;00mconn_dir\u001b[38;5;132;01m}\u001b[39;00m\u001b[38;5;124m/atlas-\u001b[39m\u001b[38;5;132;01m{\u001b[39;00matlas\u001b[38;5;132;01m}\u001b[39;00m\u001b[38;5;124m_prediction/balanced_all_subs.csv\u001b[39m\u001b[38;5;124m\"\u001b[39m, index_col\u001b[38;5;241m=\u001b[39m\u001b[38;5;241m0\u001b[39m)\n\u001b[0;32m---> 12\u001b[0m labels \u001b[38;5;241m=\u001b[39m \u001b[43mpd\u001b[49m\u001b[38;5;241;43m.\u001b[39;49m\u001b[43mread_csv\u001b[49m\u001b[43m(\u001b[49m\u001b[38;5;124;43mf\u001b[39;49m\u001b[38;5;124;43m\"\u001b[39;49m\u001b[38;5;124;43mdata/cluster_\u001b[39;49m\u001b[38;5;132;43;01m{\u001b[39;49;00m\u001b[43mk\u001b[49m\u001b[38;5;132;43;01m}\u001b[39;49;00m\u001b[38;5;124;43m_labels.csv\u001b[39;49m\u001b[38;5;124;43m\"\u001b[39;49m\u001b[43m,\u001b[49m\u001b[43m \u001b[49m\u001b[43mindex_col\u001b[49m\u001b[38;5;241;43m=\u001b[39;49m\u001b[38;5;241;43m0\u001b[39;49m\u001b[43m)\u001b[49m\n\u001b[1;32m     14\u001b[0m baseline_msk \u001b[38;5;241m=\u001b[39m (metadata\u001b[38;5;241m.\u001b[39mses \u001b[38;5;241m==\u001b[39m \u001b[38;5;124m\"\u001b[39m\u001b[38;5;124mM000\u001b[39m\u001b[38;5;124m\"\u001b[39m)\n\u001b[1;32m     15\u001b[0m \u001b[38;5;28;01mif\u001b[39;00m test_centre \u001b[38;5;129;01mis\u001b[39;00m \u001b[38;5;129;01mnot\u001b[39;00m \u001b[38;5;28;01mNone\u001b[39;00m:\n",
      "File \u001b[0;32m~/miniconda3/envs/cogpred/lib/python3.12/site-packages/pandas/io/parsers/readers.py:1026\u001b[0m, in \u001b[0;36mread_csv\u001b[0;34m(filepath_or_buffer, sep, delimiter, header, names, index_col, usecols, dtype, engine, converters, true_values, false_values, skipinitialspace, skiprows, skipfooter, nrows, na_values, keep_default_na, na_filter, verbose, skip_blank_lines, parse_dates, infer_datetime_format, keep_date_col, date_parser, date_format, dayfirst, cache_dates, iterator, chunksize, compression, thousands, decimal, lineterminator, quotechar, quoting, doublequote, escapechar, comment, encoding, encoding_errors, dialect, on_bad_lines, delim_whitespace, low_memory, memory_map, float_precision, storage_options, dtype_backend)\u001b[0m\n\u001b[1;32m   1013\u001b[0m kwds_defaults \u001b[38;5;241m=\u001b[39m _refine_defaults_read(\n\u001b[1;32m   1014\u001b[0m     dialect,\n\u001b[1;32m   1015\u001b[0m     delimiter,\n\u001b[0;32m   (...)\u001b[0m\n\u001b[1;32m   1022\u001b[0m     dtype_backend\u001b[38;5;241m=\u001b[39mdtype_backend,\n\u001b[1;32m   1023\u001b[0m )\n\u001b[1;32m   1024\u001b[0m kwds\u001b[38;5;241m.\u001b[39mupdate(kwds_defaults)\n\u001b[0;32m-> 1026\u001b[0m \u001b[38;5;28;01mreturn\u001b[39;00m \u001b[43m_read\u001b[49m\u001b[43m(\u001b[49m\u001b[43mfilepath_or_buffer\u001b[49m\u001b[43m,\u001b[49m\u001b[43m \u001b[49m\u001b[43mkwds\u001b[49m\u001b[43m)\u001b[49m\n",
      "File \u001b[0;32m~/miniconda3/envs/cogpred/lib/python3.12/site-packages/pandas/io/parsers/readers.py:620\u001b[0m, in \u001b[0;36m_read\u001b[0;34m(filepath_or_buffer, kwds)\u001b[0m\n\u001b[1;32m    617\u001b[0m _validate_names(kwds\u001b[38;5;241m.\u001b[39mget(\u001b[38;5;124m\"\u001b[39m\u001b[38;5;124mnames\u001b[39m\u001b[38;5;124m\"\u001b[39m, \u001b[38;5;28;01mNone\u001b[39;00m))\n\u001b[1;32m    619\u001b[0m \u001b[38;5;66;03m# Create the parser.\u001b[39;00m\n\u001b[0;32m--> 620\u001b[0m parser \u001b[38;5;241m=\u001b[39m \u001b[43mTextFileReader\u001b[49m\u001b[43m(\u001b[49m\u001b[43mfilepath_or_buffer\u001b[49m\u001b[43m,\u001b[49m\u001b[43m \u001b[49m\u001b[38;5;241;43m*\u001b[39;49m\u001b[38;5;241;43m*\u001b[39;49m\u001b[43mkwds\u001b[49m\u001b[43m)\u001b[49m\n\u001b[1;32m    622\u001b[0m \u001b[38;5;28;01mif\u001b[39;00m chunksize \u001b[38;5;129;01mor\u001b[39;00m iterator:\n\u001b[1;32m    623\u001b[0m     \u001b[38;5;28;01mreturn\u001b[39;00m parser\n",
      "File \u001b[0;32m~/miniconda3/envs/cogpred/lib/python3.12/site-packages/pandas/io/parsers/readers.py:1620\u001b[0m, in \u001b[0;36mTextFileReader.__init__\u001b[0;34m(self, f, engine, **kwds)\u001b[0m\n\u001b[1;32m   1617\u001b[0m     \u001b[38;5;28mself\u001b[39m\u001b[38;5;241m.\u001b[39moptions[\u001b[38;5;124m\"\u001b[39m\u001b[38;5;124mhas_index_names\u001b[39m\u001b[38;5;124m\"\u001b[39m] \u001b[38;5;241m=\u001b[39m kwds[\u001b[38;5;124m\"\u001b[39m\u001b[38;5;124mhas_index_names\u001b[39m\u001b[38;5;124m\"\u001b[39m]\n\u001b[1;32m   1619\u001b[0m \u001b[38;5;28mself\u001b[39m\u001b[38;5;241m.\u001b[39mhandles: IOHandles \u001b[38;5;241m|\u001b[39m \u001b[38;5;28;01mNone\u001b[39;00m \u001b[38;5;241m=\u001b[39m \u001b[38;5;28;01mNone\u001b[39;00m\n\u001b[0;32m-> 1620\u001b[0m \u001b[38;5;28mself\u001b[39m\u001b[38;5;241m.\u001b[39m_engine \u001b[38;5;241m=\u001b[39m \u001b[38;5;28;43mself\u001b[39;49m\u001b[38;5;241;43m.\u001b[39;49m\u001b[43m_make_engine\u001b[49m\u001b[43m(\u001b[49m\u001b[43mf\u001b[49m\u001b[43m,\u001b[49m\u001b[43m \u001b[49m\u001b[38;5;28;43mself\u001b[39;49m\u001b[38;5;241;43m.\u001b[39;49m\u001b[43mengine\u001b[49m\u001b[43m)\u001b[49m\n",
      "File \u001b[0;32m~/miniconda3/envs/cogpred/lib/python3.12/site-packages/pandas/io/parsers/readers.py:1880\u001b[0m, in \u001b[0;36mTextFileReader._make_engine\u001b[0;34m(self, f, engine)\u001b[0m\n\u001b[1;32m   1878\u001b[0m     \u001b[38;5;28;01mif\u001b[39;00m \u001b[38;5;124m\"\u001b[39m\u001b[38;5;124mb\u001b[39m\u001b[38;5;124m\"\u001b[39m \u001b[38;5;129;01mnot\u001b[39;00m \u001b[38;5;129;01min\u001b[39;00m mode:\n\u001b[1;32m   1879\u001b[0m         mode \u001b[38;5;241m+\u001b[39m\u001b[38;5;241m=\u001b[39m \u001b[38;5;124m\"\u001b[39m\u001b[38;5;124mb\u001b[39m\u001b[38;5;124m\"\u001b[39m\n\u001b[0;32m-> 1880\u001b[0m \u001b[38;5;28mself\u001b[39m\u001b[38;5;241m.\u001b[39mhandles \u001b[38;5;241m=\u001b[39m \u001b[43mget_handle\u001b[49m\u001b[43m(\u001b[49m\n\u001b[1;32m   1881\u001b[0m \u001b[43m    \u001b[49m\u001b[43mf\u001b[49m\u001b[43m,\u001b[49m\n\u001b[1;32m   1882\u001b[0m \u001b[43m    \u001b[49m\u001b[43mmode\u001b[49m\u001b[43m,\u001b[49m\n\u001b[1;32m   1883\u001b[0m \u001b[43m    \u001b[49m\u001b[43mencoding\u001b[49m\u001b[38;5;241;43m=\u001b[39;49m\u001b[38;5;28;43mself\u001b[39;49m\u001b[38;5;241;43m.\u001b[39;49m\u001b[43moptions\u001b[49m\u001b[38;5;241;43m.\u001b[39;49m\u001b[43mget\u001b[49m\u001b[43m(\u001b[49m\u001b[38;5;124;43m\"\u001b[39;49m\u001b[38;5;124;43mencoding\u001b[39;49m\u001b[38;5;124;43m\"\u001b[39;49m\u001b[43m,\u001b[49m\u001b[43m \u001b[49m\u001b[38;5;28;43;01mNone\u001b[39;49;00m\u001b[43m)\u001b[49m\u001b[43m,\u001b[49m\n\u001b[1;32m   1884\u001b[0m \u001b[43m    \u001b[49m\u001b[43mcompression\u001b[49m\u001b[38;5;241;43m=\u001b[39;49m\u001b[38;5;28;43mself\u001b[39;49m\u001b[38;5;241;43m.\u001b[39;49m\u001b[43moptions\u001b[49m\u001b[38;5;241;43m.\u001b[39;49m\u001b[43mget\u001b[49m\u001b[43m(\u001b[49m\u001b[38;5;124;43m\"\u001b[39;49m\u001b[38;5;124;43mcompression\u001b[39;49m\u001b[38;5;124;43m\"\u001b[39;49m\u001b[43m,\u001b[49m\u001b[43m \u001b[49m\u001b[38;5;28;43;01mNone\u001b[39;49;00m\u001b[43m)\u001b[49m\u001b[43m,\u001b[49m\n\u001b[1;32m   1885\u001b[0m \u001b[43m    \u001b[49m\u001b[43mmemory_map\u001b[49m\u001b[38;5;241;43m=\u001b[39;49m\u001b[38;5;28;43mself\u001b[39;49m\u001b[38;5;241;43m.\u001b[39;49m\u001b[43moptions\u001b[49m\u001b[38;5;241;43m.\u001b[39;49m\u001b[43mget\u001b[49m\u001b[43m(\u001b[49m\u001b[38;5;124;43m\"\u001b[39;49m\u001b[38;5;124;43mmemory_map\u001b[39;49m\u001b[38;5;124;43m\"\u001b[39;49m\u001b[43m,\u001b[49m\u001b[43m \u001b[49m\u001b[38;5;28;43;01mFalse\u001b[39;49;00m\u001b[43m)\u001b[49m\u001b[43m,\u001b[49m\n\u001b[1;32m   1886\u001b[0m \u001b[43m    \u001b[49m\u001b[43mis_text\u001b[49m\u001b[38;5;241;43m=\u001b[39;49m\u001b[43mis_text\u001b[49m\u001b[43m,\u001b[49m\n\u001b[1;32m   1887\u001b[0m \u001b[43m    \u001b[49m\u001b[43merrors\u001b[49m\u001b[38;5;241;43m=\u001b[39;49m\u001b[38;5;28;43mself\u001b[39;49m\u001b[38;5;241;43m.\u001b[39;49m\u001b[43moptions\u001b[49m\u001b[38;5;241;43m.\u001b[39;49m\u001b[43mget\u001b[49m\u001b[43m(\u001b[49m\u001b[38;5;124;43m\"\u001b[39;49m\u001b[38;5;124;43mencoding_errors\u001b[39;49m\u001b[38;5;124;43m\"\u001b[39;49m\u001b[43m,\u001b[49m\u001b[43m \u001b[49m\u001b[38;5;124;43m\"\u001b[39;49m\u001b[38;5;124;43mstrict\u001b[39;49m\u001b[38;5;124;43m\"\u001b[39;49m\u001b[43m)\u001b[49m\u001b[43m,\u001b[49m\n\u001b[1;32m   1888\u001b[0m \u001b[43m    \u001b[49m\u001b[43mstorage_options\u001b[49m\u001b[38;5;241;43m=\u001b[39;49m\u001b[38;5;28;43mself\u001b[39;49m\u001b[38;5;241;43m.\u001b[39;49m\u001b[43moptions\u001b[49m\u001b[38;5;241;43m.\u001b[39;49m\u001b[43mget\u001b[49m\u001b[43m(\u001b[49m\u001b[38;5;124;43m\"\u001b[39;49m\u001b[38;5;124;43mstorage_options\u001b[39;49m\u001b[38;5;124;43m\"\u001b[39;49m\u001b[43m,\u001b[49m\u001b[43m \u001b[49m\u001b[38;5;28;43;01mNone\u001b[39;49;00m\u001b[43m)\u001b[49m\u001b[43m,\u001b[49m\n\u001b[1;32m   1889\u001b[0m \u001b[43m\u001b[49m\u001b[43m)\u001b[49m\n\u001b[1;32m   1890\u001b[0m \u001b[38;5;28;01massert\u001b[39;00m \u001b[38;5;28mself\u001b[39m\u001b[38;5;241m.\u001b[39mhandles \u001b[38;5;129;01mis\u001b[39;00m \u001b[38;5;129;01mnot\u001b[39;00m \u001b[38;5;28;01mNone\u001b[39;00m\n\u001b[1;32m   1891\u001b[0m f \u001b[38;5;241m=\u001b[39m \u001b[38;5;28mself\u001b[39m\u001b[38;5;241m.\u001b[39mhandles\u001b[38;5;241m.\u001b[39mhandle\n",
      "File \u001b[0;32m~/miniconda3/envs/cogpred/lib/python3.12/site-packages/pandas/io/common.py:873\u001b[0m, in \u001b[0;36mget_handle\u001b[0;34m(path_or_buf, mode, encoding, compression, memory_map, is_text, errors, storage_options)\u001b[0m\n\u001b[1;32m    868\u001b[0m \u001b[38;5;28;01melif\u001b[39;00m \u001b[38;5;28misinstance\u001b[39m(handle, \u001b[38;5;28mstr\u001b[39m):\n\u001b[1;32m    869\u001b[0m     \u001b[38;5;66;03m# Check whether the filename is to be opened in binary mode.\u001b[39;00m\n\u001b[1;32m    870\u001b[0m     \u001b[38;5;66;03m# Binary mode does not support 'encoding' and 'newline'.\u001b[39;00m\n\u001b[1;32m    871\u001b[0m     \u001b[38;5;28;01mif\u001b[39;00m ioargs\u001b[38;5;241m.\u001b[39mencoding \u001b[38;5;129;01mand\u001b[39;00m \u001b[38;5;124m\"\u001b[39m\u001b[38;5;124mb\u001b[39m\u001b[38;5;124m\"\u001b[39m \u001b[38;5;129;01mnot\u001b[39;00m \u001b[38;5;129;01min\u001b[39;00m ioargs\u001b[38;5;241m.\u001b[39mmode:\n\u001b[1;32m    872\u001b[0m         \u001b[38;5;66;03m# Encoding\u001b[39;00m\n\u001b[0;32m--> 873\u001b[0m         handle \u001b[38;5;241m=\u001b[39m \u001b[38;5;28;43mopen\u001b[39;49m\u001b[43m(\u001b[49m\n\u001b[1;32m    874\u001b[0m \u001b[43m            \u001b[49m\u001b[43mhandle\u001b[49m\u001b[43m,\u001b[49m\n\u001b[1;32m    875\u001b[0m \u001b[43m            \u001b[49m\u001b[43mioargs\u001b[49m\u001b[38;5;241;43m.\u001b[39;49m\u001b[43mmode\u001b[49m\u001b[43m,\u001b[49m\n\u001b[1;32m    876\u001b[0m \u001b[43m            \u001b[49m\u001b[43mencoding\u001b[49m\u001b[38;5;241;43m=\u001b[39;49m\u001b[43mioargs\u001b[49m\u001b[38;5;241;43m.\u001b[39;49m\u001b[43mencoding\u001b[49m\u001b[43m,\u001b[49m\n\u001b[1;32m    877\u001b[0m \u001b[43m            \u001b[49m\u001b[43merrors\u001b[49m\u001b[38;5;241;43m=\u001b[39;49m\u001b[43merrors\u001b[49m\u001b[43m,\u001b[49m\n\u001b[1;32m    878\u001b[0m \u001b[43m            \u001b[49m\u001b[43mnewline\u001b[49m\u001b[38;5;241;43m=\u001b[39;49m\u001b[38;5;124;43m\"\u001b[39;49m\u001b[38;5;124;43m\"\u001b[39;49m\u001b[43m,\u001b[49m\n\u001b[1;32m    879\u001b[0m \u001b[43m        \u001b[49m\u001b[43m)\u001b[49m\n\u001b[1;32m    880\u001b[0m     \u001b[38;5;28;01melse\u001b[39;00m:\n\u001b[1;32m    881\u001b[0m         \u001b[38;5;66;03m# Binary mode\u001b[39;00m\n\u001b[1;32m    882\u001b[0m         handle \u001b[38;5;241m=\u001b[39m \u001b[38;5;28mopen\u001b[39m(handle, ioargs\u001b[38;5;241m.\u001b[39mmode)\n",
      "\u001b[0;31mFileNotFoundError\u001b[0m: [Errno 2] No such file or directory: 'data/cluster_stamp-2024-07-11-17:08_labels.csv'"
     ]
    }
   ],
   "source": [
    "from cogpred.loading import make_test_data\n",
    "matrices, metadata = make_test_data(conn_dir, ATLAS, k)"
   ]
  },
  {
   "cell_type": "code",
   "execution_count": null,
   "metadata": {},
   "outputs": [],
   "source": [
    "from nilearn.connectome.connectivity_matrices import sym_matrix_to_vec\n",
    "\n",
    "def make_fc_features(matrices, metadata):\n",
    "    X = []\n",
    "    for mat in matrices:\n",
    "        vec = sym_matrix_to_vec(mat, discard_diagonal=True)\n",
    "        vec_idx = np.flatnonzero(vec) # Should only be computed once\n",
    "        X.append(vec[vec_idx])\n",
    "\n",
    "    X = np.stack(X)\n",
    "    y = metadata.cluster_label\n",
    "    assert len(X) == len(y)\n",
    "    return X, y"
   ]
  },
  {
   "cell_type": "code",
   "execution_count": null,
   "metadata": {},
   "outputs": [
    {
     "name": "stdout",
     "output_type": "stream",
     "text": [
      "k-3_feat-fc_atlas-schaefer200 has no available model\n",
      "k-3_feat-dummy has no available model\n",
      "I hate NN\n",
      "k-3_feat-series_experimental-True_atlas-schaefer200 has no available model\n",
      "k-3_feat-series_experimental-True_atlas-schaefer200_stamp-2024-07-04 18:10:38 has no available model\n",
      "k-3_feat-series_experimental-True_atlas-schaefer200_stamp-2024-07-05 10:30:43 has no available model\n",
      "k-3_feat-series_experimental-True_atlas-schaefer200_stamp-2024-07-05 11:16:56 has no available model\n",
      "k-3_feat-series_experimental-True_atlas-schaefer200_stamp-2024-07-05 12:13:19 has no available model\n",
      "k-3_feat-series_experimental-True_atlas-schaefer200_winsize-24_stamp-2024-07-05 13:00:50 has no available model\n",
      "k-3_feat-series_experimental-True_atlas-schaefer200_winsize-24_stamp-2024-07-05 13:02:36 has no available model\n",
      "k-3_feat-series_experimental-True_atlas-schaefer200_winsize-24_stamp-2024-07-05 13:06:46 has no available model\n",
      "k-3_feat-series_experimental-True_atlas-schaefer200_winsize-24_stamp-2024-07-05 13:49:20 has no available model\n",
      "k-3_feat-series_experimental-True_atlas-schaefer200_winsize-24_stamp-2024-07-05 13:51:57 has no available model\n",
      "k-3_feat-series_experimental-True_atlas-schaefer200_winsize-24_stamp-2024-07-05 13:53:33 has no available model\n",
      "k-3_feat-series_experimental-True_atlas-schaefer200_winsize-24_stamp-2024-07-05 14:09:03 has no available model\n",
      "k-3_feat-series_experimental-True_atlas-schaefer200_winsize-24_batch_size-1024_niter-10_stamp-2024-07-05-14:16 has no available model\n",
      "k-3_feat-series_experimental-True_atlas-schaefer200_winsize-24_batch_size-512_niter-50_stamp-2024-07-05-14:21 has no available model\n",
      "k-3_feat-series_experimental-True_atlas-schaefer200_winsize-24_batch_size-512_niter-5_stamp-2024-07-05-15:20 has no available model\n",
      "k-3_feat-series_experimental-True_atlas-schaefer200_winsize-48_batchsize-512_niter-1_stamp-2024-07-05-15:58 has no available model\n",
      "k-3_feat-series_experimental-True_atlas-schaefer200_winsize-48_batchsize-512_niter-10_stamp-2024-07-05-16:03 has no available model\n",
      "k-3_feat-series_experimental-True_atlas-schaefer200_winsize-48_batchsize-512_niter-10_stamp-2024-07-08-10:46 has no available model\n",
      "k-3_feat-series_experimental-True_atlas-schaefer200_winsize-96_batchsize-512_niter-10_stamp-2024-07-08-10:56 has no available model\n",
      "k-3_feat-series_experimental-True_atlas-schaefer200_winsize-96_batchsize-512_niter-10_stamp-2024-07-08-11:16 has no available model\n",
      "k-3_feat-series_experimental-True_atlas-schaefer200_winsize-96_batchsize-512_niter-10_stamp-2024-07-08-11:26 has no available model\n",
      "k-3_feat-series_experimental-True_atlas-schaefer200_winsize-96_batchsize-512_niter-10_stamp-2024-07-08-11:39 has no available model\n",
      "k-3_feat-series_experimental-True_atlas-schaefer200_winsize-96_batchsize-512_niter-10_stamp-2024-07-08-11:40 has no available model\n",
      "k-3_feat-series_experimental-True_atlas-schaefer200_winsize-96_batchsize-crossval_niter-100_stamp-2024-07-08-12:10 has no available model\n",
      "k-3_feat-fc_atlas-schaefer200_groupkfold-True has no available model\n",
      "k-3_feat-series_experimental-True_atlas-schaefer200_winsize-96_batchsize-crossval_niter-100_stamp-2024-07-08-13:42 has no available model\n",
      "k-3_feat-series_experimental-True_atlas-schaefer200_winsize-96_batchsize-crossval_niter-100_stamp-2024-07-09-10:02 has no available model\n"
     ]
    }
   ],
   "source": [
    "X_test, y_test = make_fc_features(matrices, metadata)\n",
    "\n",
    "estimators = dict()\n",
    "for subdir in dir.iterdir():\n",
    "    try:\n",
    "        model = joblib.load(subdir / \"best_estimator.joblib\")\n",
    "    except FileNotFoundError:\n",
    "        print(f\"{subdir.name} has no available model\")\n",
    "        continue\n",
    "    except AttributeError:\n",
    "        print(\"I hate NN\")\n",
    "    if \"experimental-True\" not in subdir.name:\n",
    "        estimators[subdir.name] = model\n"
   ]
  }
 ],
 "metadata": {
  "kernelspec": {
   "display_name": "cogpred",
   "language": "python",
   "name": "python3"
  },
  "language_info": {
   "codemirror_mode": {
    "name": "ipython",
    "version": 3
   },
   "file_extension": ".py",
   "mimetype": "text/x-python",
   "name": "python",
   "nbconvert_exporter": "python",
   "pygments_lexer": "ipython3",
   "version": "3.12.2"
  }
 },
 "nbformat": 4,
 "nbformat_minor": 2
}
