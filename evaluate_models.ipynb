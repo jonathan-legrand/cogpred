{
 "cells": [
  {
   "cell_type": "code",
   "execution_count": 54,
   "metadata": {},
   "outputs": [
    {
     "name": "stdout",
     "output_type": "stream",
     "text": [
      "Dropping 4 subjects because of lacking MMMSE\n"
     ]
    }
   ],
   "source": [
    "from pathlib import Path\n",
    "import joblib\n",
    "import numpy as np\n",
    "\n",
    "from cogpred.utils.naming import make_run_path\n",
    "from cogpred.utils.configuration import get_config\n",
    "from cogpred.loading import make_test_data, make_training_data\n",
    "\n",
    "config = get_config()\n",
    "dir = Path(config[\"output_dir\"]) / \"prediction\"\n",
    "ATLAS = \"schaefer200\"\n",
    "k = 3\n",
    "\n",
    "conn_dir = config[\"connectivity_matrices\"]\n",
    "\n",
    "fc_exps = [\n",
    "    \"k-3_feat-fc_atlas-schaefer200_groupkfold-True_net-Default_inter-Default\"\n",
    "]\n",
    "volumetry = [\n",
    "    \"k-3_feat-volumetry_atlas-schaefer200_experimental-False\"\n",
    "]\n",
    "\n",
    "series_exp = [\n",
    "    \"k-3_feat-series_experimental-True_atlas-schaefer200_winsize-48_batchsize-512_niter-50_stamp-2024-07-12-09:44\"\n",
    "]\n",
    "\n",
    "matrices, metadata = make_test_data(conn_dir, ATLAS, k)\n",
    "y_test = metadata.cluster_label.values"
   ]
  },
  {
   "cell_type": "code",
   "execution_count": 33,
   "metadata": {},
   "outputs": [
    {
     "data": {
      "image/png": "[encoded data removed]",
      "text/plain": [
       "<Figure size 400x200 with 1 Axes>"
      ]
     },
     "metadata": {},
     "output_type": "display_data"
    }
   ],
   "source": [
    "from matplotlib import pyplot as plt\n",
    "import seaborn as sns\n",
    "_, counts = np.unique(y_test, return_counts=True)\n",
    "plt.subplots(figsize=(4, 2))\n",
    "plt.bar(\n",
    "    [\"Stable\", \"Slow\", \"Steep\"],\n",
    "    counts / len(y_test),\n",
    "    color=sns.color_palette()[:3],\n",
    ")\n",
    "plt.ylabel(\"Prop\")\n",
    "plt.ylim(0, 1)\n",
    "plt.title(\"Class repartition in test set\")\n",
    "plt.show()"
   ]
  },
  {
   "cell_type": "code",
   "execution_count": 56,
   "metadata": {},
   "outputs": [],
   "source": [
    "import json\n",
    "from sklearn.metrics import f1_score, balanced_accuracy_score\n",
    "from sklearn.dummy import DummyClassifier\n",
    "from cogpred.features import make_features\n",
    "from cogpred.loading import TSFetcher\n",
    "from cogpred.models import WindowNetClassifier, BOLDCNN\n",
    "from torch import nn\n",
    "from neuroginius.atlas import Atlas\n",
    "from cogpred.models import default_channel_func, initial_bump, slow_increase, fast_increase, constant_channels\n",
    "\n",
    "TSPATH = Path(\"/georges/memento/BIDS/derivatives/schaeffer200_merged_phenotypes\")\n",
    "\n",
    "def evaluate_series_model(expname):\n",
    "    \n",
    "    # Fetch features\n",
    "    atlas = Atlas.from_name(ATLAS)\n",
    "    fetcher = TSFetcher(TSPATH)\n",
    "    \n",
    "    net_indexer = np.where(np.array(atlas.macro_labels) == \"SomMot\", True, False)\n",
    "    net_indexer += np.where(np.array(atlas.macro_labels) == \"Limbic\", True, False)\n",
    "    exppath = dir / expname\n",
    "    features = make_features(fetcher, metadata, net_indexer)\n",
    "\n",
    "    # Rebuild model\n",
    "    with open(exppath / \"architecture.json\", \"r\") as file:\n",
    "        params = json.load(file)\n",
    "\n",
    "    params[\"module__channel_func\"] = eval(params[\"module__channel_func\"])\n",
    "\n",
    "    expdict = dict()\n",
    "    for k in exppath.name.split(\"_\"):\n",
    "        exptag = k.split(\"-\")\n",
    "        expdict[exptag[0]] = exptag[1]\n",
    "    new_net = WindowNetClassifier(\n",
    "        module=BOLDCNN,\n",
    "        module__n_channels=sum(net_indexer),\n",
    "        module__window_size=int(expdict[\"winsize\"]),\n",
    "        criterion=nn.CrossEntropyLoss(),\n",
    "        **params\n",
    "    )\n",
    "    new_net.initialize()  # This is important!\n",
    "    new_net.load_params(f_params=exppath / \"params.pkl\")\n",
    "\n",
    "    # Run preds and return score\n",
    "    y_pred = []\n",
    "    for ts in features:\n",
    "        ts = ts.T\n",
    "        ts = ts.reshape(1, *ts.shape)\n",
    "        p, _ = new_net.sliding_inference(ts, stride=6)\n",
    "        integral = p.sum(axis=1)\n",
    "        decision = np.argmax(integral)\n",
    "        y_pred.append(decision)\n",
    "\n",
    "    return balanced_accuracy_score(y_test, y_pred)\n",
    "    \n",
    "\n",
    "def evaluate_fc_model(expname):\n",
    "    estimator = joblib.load(dir / expname / \"best_estimator.joblib\")\n",
    "    y_pred = estimator.predict(matrices)\n",
    "    return balanced_accuracy_score(y_test, y_pred)\n",
    "\n",
    "def evaluate_dummy_model():\n",
    "    X_mock = np.ones(len(y_test))\n",
    "    dum_pred = DummyClassifier(strategy=\"most_frequent\").fit(X_mock, y_test).predict(X_mock)\n",
    "    dum_score = balanced_accuracy_score(y_test, dum_pred)\n",
    "    return dum_score\n",
    "\n",
    "rng = np.random.default_rng(seed=123)\n",
    "def evaluate_random_model():\n",
    "    random_pred = rng.choice(3, size=y_test.shape)\n",
    "    random_score = balanced_accuracy_score(y_test, random_pred)\n",
    "    return random_score\n",
    "    \n",
    "    "
   ]
  },
  {
   "cell_type": "code",
   "execution_count": 57,
   "metadata": {},
   "outputs": [
    {
     "name": "stdout",
     "output_type": "stream",
     "text": [
      "47 48\n",
      "94 24\n",
      "188 12\n"
     ]
    },
    {
     "data": {
      "text/plain": [
       "{'dummy': 0.3333333333333333,\n",
       " 'random': 0.41005291005291006,\n",
       " 'k-3_feat-fc_atlas-schaefer200_groupkfold-True_net-Default_inter-Default': 0.3280423280423281,\n",
       " 'k-3_feat-series_experimental-True_atlas-schaefer200_winsize-48_batchsize-512_niter-50_stamp-2024-07-12-09:44': 0.39021164021164023}"
      ]
     },
     "execution_count": 57,
     "metadata": {},
     "output_type": "execute_result"
    }
   ],
   "source": [
    "import numpy as np\n",
    "\n",
    "scores = {\n",
    "    \"dummy\": evaluate_dummy_model()\n",
    "}\n",
    "\n",
    "scores[\"random\"] = evaluate_random_model()\n",
    "\n",
    "for fc_exp in fc_exps:\n",
    "    scores[fc_exp] = evaluate_fc_model(fc_exp)\n",
    "\n",
    "for ts_exp in series_exp:\n",
    "    scores[ts_exp] = evaluate_series_model(ts_exp)\n",
    "\n",
    "scores"
   ]
  }
 ],
 "metadata": {
  "kernelspec": {
   "display_name": "cogpred",
   "language": "python",
   "name": "python3"
  },
  "language_info": {
   "codemirror_mode": {
    "name": "ipython",
    "version": 3
   },
   "file_extension": ".py",
   "mimetype": "text/x-python",
   "name": "python",
   "nbconvert_exporter": "python",
   "pygments_lexer": "ipython3",
   "version": "3.12.2"
  }
 },
 "nbformat": 4,
 "nbformat_minor": 2
}
